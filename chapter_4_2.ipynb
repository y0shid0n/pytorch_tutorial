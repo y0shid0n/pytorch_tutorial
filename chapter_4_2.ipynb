{
 "cells": [
  {
   "cell_type": "markdown",
   "metadata": {},
   "source": [
    "# 第4章 画像処理と畳み込みニューラルネット - 2"
   ]
  },
  {
   "cell_type": "markdown",
   "metadata": {},
   "source": [
    "## 4.4 CNN回帰モデルによる画像の高解像度化\n",
    "* CNNは回帰問題にも利用できる\n",
    "  * 画像を別の画像に変換するという応用が可能\n",
    "  * CNNを利用した顔画像の高解像度化"
   ]
  },
  {
   "cell_type": "markdown",
   "metadata": {},
   "source": [
    "### 4.4.1 データ準備\n",
    "* Labeled Faces in th Wild（LFW, 代表的な顔画像データセット）\n",
    "  * LFW deep funneled images（顔が垂直になるようにアラインされたデータセット）\n",
    "  * http://vis-www.cs.umass.edu/lfw/\n",
    "    * All images aligned with deep funnelingというリンクからDL\n",
    "    * 直リンク: http://vis-www.cs.umass.edu/lfw/lfw-deepfunneled.tgz\n",
    "* 128x128の画像(y)と、それを32x32に縮小した画像(x)を用意し、xをCNNで拡大した結果とyとの誤差を最小化"
   ]
  },
  {
   "cell_type": "code",
   "execution_count": 1,
   "metadata": {},
   "outputs": [],
   "source": [
    "%matplotlib inline\n",
    "import torch\n",
    "from torch import nn, optim\n",
    "from torchvision import transforms\n",
    "from torch.utils.data import DataLoader\n",
    "from torchvision.datasets import ImageFolder\n",
    "from tqdm import tqdm\n",
    "from matplotlib import pyplot as plt"
   ]
  },
  {
   "cell_type": "code",
   "execution_count": 2,
   "metadata": {},
   "outputs": [],
   "source": [
    "# loggerを使う\n",
    "from logging import getLogger, StreamHandler, Formatter\n",
    "\n",
    "# create logger\n",
    "logger = getLogger(__name__)\n",
    "log_fmt = Formatter(\"%(asctime)s %(name)s %(lineno)s [%(levelname)s][%(funcName)s] %(message)s\")\n",
    "\n",
    "# ログレベル設定\n",
    "#log_level = \"INFO\"\n",
    "log_level = \"DEBUG\"\n",
    "logger.setLevel(log_level)\n",
    "\n",
    "# handlerの生成\n",
    "handler = StreamHandler()\n",
    "handler.setLevel(log_level)\n",
    "handler.setFormatter(log_fmt)\n",
    "logger.addHandler(handler)"
   ]
  },
  {
   "cell_type": "code",
   "execution_count": 3,
   "metadata": {},
   "outputs": [
    {
     "name": "stdout",
     "output_type": "stream",
     "text": [
      "cuda\n"
     ]
    }
   ],
   "source": [
    "# gpuを使えるときはgpuを使う\n",
    "device = \"cuda\" if torch.cuda.is_available() else 'cpu'\n",
    "print(device)"
   ]
  },
  {
   "cell_type": "code",
   "execution_count": 4,
   "metadata": {},
   "outputs": [],
   "source": [
    "class DownSizedPairImageFolder(ImageFolder):\n",
    "    def __init__(self, root, transform=None, large_size=128, small_size=32, **kwargs):\n",
    "        super().__init__(root, transform=transform, **kwargs)\n",
    "        self.large_resizer = transforms.Resize(large_size)\n",
    "        self.small_resizer = transforms.Resize(small_size)\n",
    "    \n",
    "    def __getitem__(self, index):\n",
    "        path, _ = self.imgs[index]\n",
    "        img = self.loader(path)\n",
    "        \n",
    "        # 読み取った画像を128x128xと32x32にリサイズする\n",
    "        # 試用する画像が正方形でない場合で、正方形にしたい場合はリサイズのあとにCenterCropするとよい\n",
    "        large_img = self.large_resizer(img)\n",
    "        small_img = self.small_resizer(img)\n",
    "        \n",
    "        # その他の変換を適用する\n",
    "        if self.transform is not None:\n",
    "            large_img = self.transform(large_img)\n",
    "            small_img = self.transform(small_img)\n",
    "        \n",
    "        # 32pixelの画像と128pixelの画像を返す\n",
    "        return small_img, large_img"
   ]
  },
  {
   "cell_type": "markdown",
   "metadata": {},
   "source": [
    "#### 補足\n",
    "* DataLoaderの作成時にnum_workersを指定すると並列処理できる\n",
    "* が、windowsだと学習時にBrokenPipiErrorを吐いてしまうもよう\n",
    "  * 参考1: https://github.com/pytorch/pytorch/issues/2341\n",
    "  * 参考2: https://qiita.com/fmfm_mdk/items/726aeacf8f6efe10009e"
   ]
  },
  {
   "cell_type": "code",
   "execution_count": 5,
   "metadata": {},
   "outputs": [],
   "source": [
    "# 画像データ読み込み\n",
    "train_data = DownSizedPairImageFolder(\"./data/LFW/lfw-deepfunneled/train/\", transform=transforms.ToTensor())\n",
    "test_data = DownSizedPairImageFolder(\"./data/LFW/lfw-deepfunneled/test/\", transform=transforms.ToTensor())\n",
    "\n",
    "# DataLoaderの作成\n",
    "batch_size = 32\n",
    "\n",
    "# train_loader = DataLoader(train_data, batch_size=batch_size, shuffle=True, num_workers=8)\n",
    "# test_loader = DataLoader(test_data, batch_size=batch_size, shuffle=False, num_workers=8)\n",
    "\n",
    "# windowsではnum_workerを指定すると死ぬのでとりあえず使わない\n",
    "train_loader = DataLoader(train_data, batch_size=batch_size, shuffle=True)\n",
    "test_loader = DataLoader(test_data, batch_size=batch_size, shuffle=False)"
   ]
  },
  {
   "cell_type": "markdown",
   "metadata": {},
   "source": [
    "### 4.4.2 モデル作成\n",
    "* Conv2dとConvTransposed2dを積み重ねたCNNを作る\n",
    "  * Conv2dでstride（カーネルをずらすときのpixel数）を2にするとプーリング層の役割も兼ねる？\n",
    "    * MaxPool2dがなくても画像のサイズが1/2になる\n",
    "  * ConvTrnasposed2d: Transposed Convolutionと呼ばれる畳み込み演算\n",
    "    * 畳み込みカーネルを行列に展開したときに、通常の畳み込みの行列の転置になっている\n",
    "    * stride=2にすると、画像サイズがおよし2倍になる\n",
    "    * 入力と出力の画像サイズが通常の畳み込みと逆になる\n",
    "    * この性質を利用して画像を拡大することができる\n",
    "    * 計算の都合上、微妙にサイズが2倍や1/2からずれるので、paddingで調整する\n",
    "      * このあたりはダミーのデータを入れて出力サイズを確認しながら試行錯誤する"
   ]
  },
  {
   "cell_type": "code",
   "execution_count": 6,
   "metadata": {},
   "outputs": [],
   "source": [
    "net = nn.Sequential(\n",
    "    nn.Conv2d(3, 256, 4, stride=2, padding=1),\n",
    "    nn.ReLU(),\n",
    "    nn.BatchNorm2d(256),\n",
    "    \n",
    "    nn.Conv2d(256, 512, 4, stride=2, padding=1),\n",
    "    nn.ReLU(),\n",
    "    nn.BatchNorm2d(512),\n",
    "    \n",
    "    nn.ConvTranspose2d(512, 256, 4, stride=2, padding=1),\n",
    "    nn.ReLU(),\n",
    "    nn.BatchNorm2d(256),\n",
    "    \n",
    "    nn.ConvTranspose2d(256, 128, 4, stride=2, padding=1),\n",
    "    nn.ReLU(),\n",
    "    nn.BatchNorm2d(128),\n",
    "    \n",
    "    nn.ConvTranspose2d(128, 64, 4, stride=2, padding=1),\n",
    "    nn.ReLU(),\n",
    "    nn.BatchNorm2d(64),\n",
    "    \n",
    "    nn.ConvTranspose2d(64, 3, 4, stride=2, padding=1)\n",
    ")"
   ]
  },
  {
   "cell_type": "code",
   "execution_count": 7,
   "metadata": {},
   "outputs": [],
   "source": [
    "import math\n",
    "def psnr(mse, max_v=1.0):\n",
    "    \"\"\"\n",
    "    画像や音声などの信号の復元問題でよく用いられる指標\n",
    "    \"\"\"\n",
    "    return 10 * math.log10(max_v / mse)"
   ]
  },
  {
   "cell_type": "code",
   "execution_count": 8,
   "metadata": {},
   "outputs": [],
   "source": [
    "# 評価のヘルパ－関数\n",
    "def eval_net(net, data_loader, device):\n",
    "    # 初期化\n",
    "    net.to(device).eval()\n",
    "    ys = []\n",
    "    ypreds = []\n",
    "    \n",
    "    for x, y in data_loader:\n",
    "        # gpuを使う場合の処理\n",
    "        x = x.to(device)\n",
    "        y = y.to(device)\n",
    "        \n",
    "        y_pred = net(x)\n",
    "        ys.append(y)\n",
    "        ypreds.append(y_pred)\n",
    "    \n",
    "    # ミニバッチごとの予測結果などを1つにまとめる\n",
    "    # logger.debug(f\"last y: {y}\")\n",
    "    # logger.debug(f\"last y_pred: {y_pred}\")\n",
    "    ys = torch.cat(ys)\n",
    "    ypreds = torch.cat(ypreds)\n",
    "    \n",
    "    # 予測精度を計算\n",
    "    score = nn.functional.mse_loss(ypreds, ys).item()\n",
    "    \n",
    "    return score"
   ]
  },
  {
   "cell_type": "code",
   "execution_count": 9,
   "metadata": {},
   "outputs": [],
   "source": [
    "# 学習のヘルパー関数\n",
    "# 回帰問題なので、損失関数にはMSEを使う\n",
    "# nn.MSELoss以外に、nn.functional.mse_lossでもよい\n",
    "def train_net(net, train_loader, test_loader, device, optimizer_cls=optim.Adam\n",
    "              , loss_fn=nn.MSELoss(), n_iter=10):\n",
    "    # 初期化\n",
    "    net.to(device).train()\n",
    "    train_losses = []\n",
    "    train_acc = []\n",
    "    val_acc = []\n",
    "    optimizer = optimizer_cls(net.parameters())\n",
    "    \n",
    "    for epoch in tqdm(range(n_iter)):\n",
    "        # 初期化\n",
    "        running_loss = 0.0\n",
    "        n = 0\n",
    "        score = 0\n",
    "        \n",
    "        for i, (x, y) in enumerate(train_loader):\n",
    "            # gpuを使う場合の処理\n",
    "            x = x.to(device)\n",
    "            y = y.to(device)\n",
    "            \n",
    "            y_pred = net(x)\n",
    "            loss = loss_fn(y_pred, y)\n",
    "            optimizer.zero_grad()\n",
    "            loss.backward()\n",
    "            optimizer.step()\n",
    "            running_loss += loss.item()\n",
    "\n",
    "            n += len(x)\n",
    "            y_pred = net(x)\n",
    "            score += nn.functional.mse_loss(y_pred, y).item()\n",
    "            \n",
    "        train_losses.append(running_loss / len(train_loader))\n",
    "        \n",
    "        # 学習データの予測精度\n",
    "        train_acc.append(score / n)\n",
    "        \n",
    "        # testデータの予測精度\n",
    "        val_acc.append(eval_net(net, test_loader, device))\n",
    "        \n",
    "        # このepochでの結果を表示\n",
    "        logger.debug(f\"epoch: {epoch}\")\n",
    "        logger.debug(f\"train_losses: {train_losses[-1]}\")\n",
    "        logger.debug(f\"psnr loss: {psnr(train_losses[-1])}\")\n",
    "        logger.debug(f\"psnr val_acc: {psnr(val_acc[-1])}\") # これ合ってる？\n",
    "        \n",
    "    return train_losses, train_acc, val_acc"
   ]
  },
  {
   "cell_type": "code",
   "execution_count": 13,
   "metadata": {},
   "outputs": [
    {
     "name": "stderr",
     "output_type": "stream",
     "text": [
      "  0%|                                                                                           | 0/10 [00:00<?, ?it/s]2020-05-06 19:51:00,490 __main__ 44 [DEBUG][train_net] epoch: 0\n",
      "2020-05-06 19:51:00,492 __main__ 45 [DEBUG][train_net] train_losses: 0.0587630329976965\n",
      "2020-05-06 19:51:00,492 __main__ 46 [DEBUG][train_net] psnr loss: 12.308957966093296\n",
      "2020-05-06 19:51:00,493 __main__ 47 [DEBUG][train_net] psnr val_acc: 20.97031147514556\n",
      " 10%|████████▎                                                                          | 1/10 [00:41<06:16, 41.84s/it]2020-05-06 19:51:41,839 __main__ 44 [DEBUG][train_net] epoch: 1\n",
      "2020-05-06 19:51:41,840 __main__ 45 [DEBUG][train_net] train_losses: 0.00547222447670395\n",
      "2020-05-06 19:51:41,840 __main__ 46 [DEBUG][train_net] psnr loss: 22.618360956822634\n",
      "2020-05-06 19:51:41,841 __main__ 47 [DEBUG][train_net] psnr val_acc: 22.993160600690633\n",
      " 20%|████████████████▌                                                                  | 2/10 [01:23<05:33, 41.69s/it]2020-05-06 19:52:23,142 __main__ 44 [DEBUG][train_net] epoch: 2\n",
      "2020-05-06 19:52:23,143 __main__ 45 [DEBUG][train_net] train_losses: 0.0036796413152535563\n",
      "2020-05-06 19:52:23,144 __main__ 46 [DEBUG][train_net] psnr loss: 24.341945134999058\n",
      "2020-05-06 19:52:23,144 __main__ 47 [DEBUG][train_net] psnr val_acc: 24.54587780858102\n",
      " 30%|████████████████████████▉                                                          | 3/10 [02:04<04:51, 41.58s/it]2020-05-06 19:53:04,433 __main__ 44 [DEBUG][train_net] epoch: 3\n",
      "2020-05-06 19:53:04,434 __main__ 45 [DEBUG][train_net] train_losses: 0.0029924282295205845\n",
      "2020-05-06 19:53:04,435 __main__ 46 [DEBUG][train_net] psnr loss: 25.23976256927218\n",
      "2020-05-06 19:53:04,435 __main__ 47 [DEBUG][train_net] psnr val_acc: 25.23008662656722\n",
      " 40%|█████████████████████████████████▏                                                 | 4/10 [02:45<04:08, 41.49s/it]2020-05-06 19:53:45,777 __main__ 44 [DEBUG][train_net] epoch: 4\n",
      "2020-05-06 19:53:45,777 __main__ 45 [DEBUG][train_net] train_losses: 0.002654832861247338\n",
      "2020-05-06 19:53:45,778 __main__ 46 [DEBUG][train_net] psnr loss: 25.75962815344421\n",
      "2020-05-06 19:53:45,778 __main__ 47 [DEBUG][train_net] psnr val_acc: 25.507194235896332\n",
      " 50%|█████████████████████████████████████████▌                                         | 5/10 [03:27<03:27, 41.45s/it]2020-05-06 19:54:27,168 __main__ 44 [DEBUG][train_net] epoch: 5\n",
      "2020-05-06 19:54:27,169 __main__ 45 [DEBUG][train_net] train_losses: 0.002449063454415367\n",
      "2020-05-06 19:54:27,170 __main__ 46 [DEBUG][train_net] psnr loss: 26.10999962304671\n",
      "2020-05-06 19:54:27,170 __main__ 47 [DEBUG][train_net] psnr val_acc: 25.954908921800804\n",
      " 60%|█████████████████████████████████████████████████▊                                 | 6/10 [04:08<02:45, 41.43s/it]2020-05-06 19:55:08,466 __main__ 44 [DEBUG][train_net] epoch: 6\n",
      "2020-05-06 19:55:08,467 __main__ 45 [DEBUG][train_net] train_losses: 0.002279933052442622\n",
      "2020-05-06 19:55:08,468 __main__ 46 [DEBUG][train_net] psnr loss: 26.42077905359905\n",
      "2020-05-06 19:55:08,468 __main__ 47 [DEBUG][train_net] psnr val_acc: 26.066432260065298\n",
      " 70%|██████████████████████████████████████████████████████████                         | 7/10 [04:49<02:04, 41.39s/it]2020-05-06 19:55:49,809 __main__ 44 [DEBUG][train_net] epoch: 7\n",
      "2020-05-06 19:55:49,810 __main__ 45 [DEBUG][train_net] train_losses: 0.002182933734445252\n",
      "2020-05-06 19:55:49,811 __main__ 46 [DEBUG][train_net] psnr loss: 26.609594476172784\n",
      "2020-05-06 19:55:49,811 __main__ 47 [DEBUG][train_net] psnr val_acc: 26.158101967185438\n",
      " 80%|██████████████████████████████████████████████████████████████████▍                | 8/10 [05:31<01:22, 41.38s/it]2020-05-06 19:56:31,136 __main__ 44 [DEBUG][train_net] epoch: 8\n",
      "2020-05-06 19:56:31,137 __main__ 45 [DEBUG][train_net] train_losses: 0.0020969342662381296\n",
      "2020-05-06 19:56:31,137 __main__ 46 [DEBUG][train_net] psnr loss: 26.784151833913576\n",
      "2020-05-06 19:56:31,138 __main__ 47 [DEBUG][train_net] psnr val_acc: 26.528832796967933\n",
      " 90%|██████████████████████████████████████████████████████████████████████████▋        | 9/10 [06:12<00:41, 41.36s/it]2020-05-06 19:57:12,526 __main__ 44 [DEBUG][train_net] epoch: 9\n",
      "2020-05-06 19:57:12,527 __main__ 45 [DEBUG][train_net] train_losses: 0.0020008814531949993\n",
      "2020-05-06 19:57:12,528 __main__ 46 [DEBUG][train_net] psnr loss: 26.987786413729737\n",
      "2020-05-06 19:57:12,528 __main__ 47 [DEBUG][train_net] psnr val_acc: 26.28799421234752\n",
      "100%|██████████████████████████████████████████████████████████████████████████████████| 10/10 [06:53<00:00, 41.39s/it]\n"
     ]
    }
   ],
   "source": [
    "# 実行（cpuだと時間がかかる）\n",
    "train_losses, train_acc, val_acc = train_net(net, train_loader, test_loader, device, n_iter=10)"
   ]
  },
  {
   "cell_type": "code",
   "execution_count": 14,
   "metadata": {},
   "outputs": [
    {
     "data": {
      "text/plain": [
       "[<matplotlib.lines.Line2D at 0x1cf37a1d9c8>]"
      ]
     },
     "execution_count": 14,
     "metadata": {},
     "output_type": "execute_result"
    },
    {
     "data": {
      "image/png": "[encoded data removed]",
      "text/plain": [
       "<Figure size 432x288 with 1 Axes>"
      ]
     },
     "metadata": {
      "needs_background": "light"
     },
     "output_type": "display_data"
    }
   ],
   "source": [
    "# 確認\n",
    "plt.plot(train_losses)"
   ]
  },
  {
   "cell_type": "code",
   "execution_count": 15,
   "metadata": {},
   "outputs": [
    {
     "data": {
      "text/plain": [
       "<matplotlib.legend.Legend at 0x1cf37a4bdc8>"
      ]
     },
     "execution_count": 15,
     "metadata": {},
     "output_type": "execute_result"
    },
    {
     "data": {
      "image/png": "[encoded data removed]",
      "text/plain": [
       "<Figure size 432x288 with 1 Axes>"
      ]
     },
     "metadata": {
      "needs_background": "light"
     },
     "output_type": "display_data"
    }
   ],
   "source": [
    "# 確認\n",
    "plt.plot(train_acc, color=\"tab:orange\", label=\"train\")\n",
    "plt.plot(val_acc, color=\"tab:blue\", label=\"test\")\n",
    "plt.legend()"
   ]
  },
  {
   "cell_type": "markdown",
   "metadata": {},
   "source": [
    "#### 実際に高解像度化した画像を見てみる\n",
    "* 画像への出力には`torchvision.utils.save_image`が便利\n",
    "  * Tensorのリストを受け取り、グリッド表示にして画像ファイルとして書き出せる\n",
    "* 一般的に使用されるBilinear補完も併せて比較する"
   ]
  },
  {
   "cell_type": "code",
   "execution_count": 18,
   "metadata": {},
   "outputs": [],
   "source": [
    "from torchvision.utils import save_image\n",
    "\n",
    "# testデータからランダムに4つずつ取り出すDataLoader\n",
    "random_test_loader = DataLoader(test_data, batch_size=4, shuffle=True)\n",
    "\n",
    "# DataLoaderをpythonのイテレータに変換し、最初の4つを取り出す\n",
    "it = iter(random_test_loader)\n",
    "x, y = next(it)\n",
    "\n",
    "# Bilinearで拡大\n",
    "# torch.nn.functional.upsampleはdeplecatedなので、nn.functional.interpolateを使う\n",
    "# bl_recon = torch.nn.functional.upsample(x, 128, mode=\"bilinear\")\n",
    "bl_recon = torch.nn.functional.interpolate(x, 128, mode=\"bilinear\")\n",
    "# CNNで拡大\n",
    "yp = net(x.to(device)).to(device).cpu()\n",
    "\n",
    "# torch.catでオリジナル、bilinear、CNNの画像を結合し、save_imageで画像ファイルに書き出し\n",
    "save_image(torch.cat([y, bl_recon.data, yp.data], 0), \"./output/cnn_upscale.jpg\", nrow=4)"
   ]
  },
  {
   "cell_type": "markdown",
   "metadata": {},
   "source": [
    "## 4.5 DCGANによる画像生成\n",
    "* GAN: Generative Adversarial Network\n",
    "  * DCGAN: Deep Convolutional GAN"
   ]
  },
  {
   "cell_type": "markdown",
   "metadata": {},
   "source": [
    "### 4.5.1 GANとは\n",
    "* 生成モデルG(Generator)と識別モデルD(Discriminator)の2つを用意し、交互に学習を行う\n",
    "  * G：あるK次元の潜在特徴ベクトルを入力として受け取り、対象と同じ形式のデータを生成するNN\n",
    "  * D：対象のデータを入力として真偽を識別するNN\n",
    "* 学習手順の概要\n",
    "  1. 潜在特徴ベクトルzを乱数により生成し、G(z)によって偽のデータ(fake_data)を生成: fake_data <- G(z)\n",
    "  1. fake_dataをDで判別: fake_out <- D(fake_data)\n",
    "  1. 実際のデータのサンプル(real_data)を用意し、Dで判別: real_out <- D(real_data)\n",
    "  1. fake_outのラベルが正例だとしてクロスエントロピーを計算し、Gのパラメータを更新\n",
    "  1. real_outのラベルが正例、fake_outのラベルが負例としてクロスエントロピーを計算し、Dのパラメータを更新\n",
    "  1. 1に戻る\n",
    "* 4でGが生成したデータがうまくDを騙せたとしてGを更新し、逆に5でDがそれをうまく見破ったとしてDを更新する、というのを交互に繰り返していく"
   ]
  },
  {
   "cell_type": "markdown",
   "metadata": {},
   "source": [
    "### 4.5.2 データの準備\n",
    "* Oxford 102: 花のデータセット\n",
    "  * https://www.robots.ox.ac.uk/~vgg/data/flowers/102/\n",
    "* 64x64の画像を生成するため、最も短い辺を80にリサイズしてからCenterCropする"
   ]
  },
  {
   "cell_type": "code",
   "execution_count": 19,
   "metadata": {},
   "outputs": [],
   "source": [
    "img_data = ImageFolder(\"./data/flowers/oxford102/\"\n",
    "                       , transform=transforms.Compose([\n",
    "                           transforms.Resize(80),\n",
    "                           transforms.CenterCrop(64),\n",
    "                           transforms.ToTensor()\n",
    "                       ]))\n",
    "\n",
    "batch_size = 64\n",
    "img_loader = DataLoader(img_data, batch_size=batch_size, shuffle=True)"
   ]
  },
  {
   "cell_type": "markdown",
   "metadata": {},
   "source": [
    "### 4.5.3 pytorchによるDCGAN\n",
    "* 元論文と公式のサンプルプログラムの実装をベースに分かりやすいように著者が改変した実装\n",
    "  * G: 潜在特徴ベクトルzを100次元とし、zから3x64x64の画像を作る生成モデル\n",
    "    * 4.4で扱ったTransposed Convolutionを使用\n",
    "    * Transposed Convolutionによって画像のサイズは以下のように変化する\n",
    "      ```\n",
    "      out_size = (in_size - 1) * stride - 2 * padding + kernel_size + output_padding\n",
    "      ```\n",
    "  * D: 3x64x64の画像を1次元(1x1x1)のスカラーに変換するネットワーク\n",
    "    * 元論文では線形層を一切使用しない方法を推奨\n",
    "    * forwardの最後にあるsqueezeはAx1xBx1のように無駄に1が入っているshapeをAxBにそぎ落とす操作\n",
    "      * Conv2dの最終的な出力が(batch_size, 1, 1, 1)になるので余分な次元を落とす"
   ]
  },
  {
   "cell_type": "code",
   "execution_count": 21,
   "metadata": {},
   "outputs": [],
   "source": [
    "# nzとngfはコンストラクタに入れるべきなのでは...？\n",
    "nz = 100 # zの次元\n",
    "ngf = 32\n",
    "\n",
    "class GNet(nn.Module):\n",
    "    def __init__(self):\n",
    "        super().__init__()\n",
    "        self.main = nn.Sequential(\n",
    "            nn.ConvTranspose2d(in_channels=nz, out_channels=ngf * 8, kernel_size=4\n",
    "                               , stride=1, padding=0, bias=False),\n",
    "            nn.BatchNorm2d(ngf * 8),\n",
    "            nn.ReLU(inplace=True),\n",
    "            \n",
    "            nn.ConvTranspose2d(ngf * 8, ngf * 4, 4, 2, 1, bias=False),\n",
    "            nn.BatchNorm2d(ngf * 4),\n",
    "            nn.ReLU(inplace=True),\n",
    "\n",
    "            nn.ConvTranspose2d(ngf * 4, ngf * 2, 4, 2, 1, bias=False),\n",
    "            nn.BatchNorm2d(ngf * 2),\n",
    "            nn.ReLU(inplace=True),\n",
    "\n",
    "            nn.ConvTranspose2d(ngf * 2, ngf, 4, 2, 1, bias=False),\n",
    "            nn.BatchNorm2d(ngf),\n",
    "            nn.ReLU(inplace=True),\n",
    "\n",
    "            nn.ConvTranspose2d(ngf, 3, 4, 2, 1, bias=False),\n",
    "            nn.Tanh()\n",
    "        )\n",
    "    def forward(self, x):\n",
    "        out = self.main(x)\n",
    "        return out"
   ]
  },
  {
   "cell_type": "code",
   "execution_count": 22,
   "metadata": {},
   "outputs": [],
   "source": [
    "ndf = 32\n",
    "\n",
    "class DNet(nn.Module):\n",
    "    def __init__(self):\n",
    "        super().__init__()\n",
    "        self.main = nn.Sequential(\n",
    "            nn.Conv2d(3, ndf, 4, 2, 1, bias=False), # 各引数はConvTranspose2dと同様\n",
    "            nn.LeakyReLU(0.2, inplace=True),\n",
    "            \n",
    "            nn.Conv2d(ndf, ndf * 2, 4, 2, 1, bias=False),\n",
    "            nn.BatchNorm2d(ndf * 2),\n",
    "            nn.LeakyReLU(0.2, inplace=True),\n",
    "            \n",
    "            nn.Conv2d(ndf * 2, ndf * 4, 4, 2, 1, bias=False),\n",
    "            nn.BatchNorm2d(ndf * 4),\n",
    "            nn.LeakyReLU(0.2, inplace=True),\n",
    "\n",
    "            nn.Conv2d(ndf * 4, ndf * 8, 4, 2, 1, bias=False),\n",
    "            nn.BatchNorm2d(ndf * 8),\n",
    "            nn.LeakyReLU(0.2, inplace=True),\n",
    "\n",
    "            nn.Conv2d(ndf * 8, 1, 4, 1, 0, bias=False)\n",
    "        )\n",
    "        \n",
    "    def forward(self, x):\n",
    "        out = self.main(x)\n",
    "        return out.squeeze()"
   ]
  },
  {
   "cell_type": "code",
   "execution_count": null,
   "metadata": {},
   "outputs": [],
   "source": [
    "# 学習関数"
   ]
  }
 ],
 "metadata": {
  "kernelspec": {
   "display_name": "Python 3",
   "language": "python",
   "name": "python3"
  },
  "language_info": {
   "codemirror_mode": {
    "name": "ipython",
    "version": 3
   },
   "file_extension": ".py",
   "mimetype": "text/x-python",
   "name": "python",
   "nbconvert_exporter": "python",
   "pygments_lexer": "ipython3",
   "version": "3.7.7"
  }
 },
 "nbformat": 4,
 "nbformat_minor": 4
}
