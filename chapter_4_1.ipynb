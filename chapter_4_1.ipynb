{
 "cells": [
  {
   "cell_type": "markdown",
   "metadata": {},
   "source": [
    "# 第4章 画像処理と畳み込みニューラルネット - 1"
   ]
  },
  {
   "cell_type": "markdown",
   "metadata": {},
   "source": [
    "## 4.1 画像と畳み込み計算\n",
    "* 画像分野における畳み込み：画像に対してある小さなカーネル行列を移動させながら各要素の積の和を取る\n",
    "* カーネルの係数を変えることで、平滑化やエッジの抽出などができる\n",
    "* 画像からカーネルを使用して特徴量を抽出しているともいえる\n",
    "* 異なるカーネルをあらかじめ複数用意して特徴寮を抽出し、分類に使用することも考えられる\n",
    "* CNNのベースのアイデア：カーネルの各係数を学習し、自動で分類などに重要な特徴寮を抽出しよう\n",
    "* 畳み込み計算：ようは線形結合（つまり微分可能）なので、勾配降下法で学習できる"
   ]
  },
  {
   "cell_type": "markdown",
   "metadata": {},
   "source": [
    "## 4.2 CNNによる画像分類\n",
    "* CNNによる画像分類：畳み込み -> 活性化関数を複数回行う\n",
    "* 画像データ：(C, H, W)の形で保持される\n",
    "* H, W: 画像の縦と横のサイズ、C: 色数またはチャンネル\n",
    "  * RGBだとC = 3, グレースケールだとC = 1\n",
    "* 最終的にはCは最後の畳み込み層のカーネル数になる\n",
    "* この処理によって得られた特徴量をMLPに入れて最終的なクラス判別を行う\n",
    "* プーリング：畳み込みの後に位置の感度を鈍くする"
   ]
  },
  {
   "cell_type": "markdown",
   "metadata": {},
   "source": [
    "### 4.2.1 Fashion-MNIST\n",
    "* MNIST: 28x28ピクセルのモノクロ手書き数字データセット（画像分類の代表的なベンチマーク）\n",
    "* Fashion-MNIST: 10カテゴリの洋服の画像のデータセット（MNISTより分類が難しい）\n",
    "* torchvisionを使って簡単にFashon-MNISTを利用できる"
   ]
  },
  {
   "cell_type": "code",
   "execution_count": 1,
   "metadata": {},
   "outputs": [],
   "source": [
    "%matplotlib inline\n",
    "from torchvision.datasets import FashionMNIST\n",
    "from torchvision import transforms\n",
    "from torch.utils.data import TensorDataset, DataLoader\n",
    "from torch import nn, optim\n",
    "import torch\n",
    "from tqdm import tqdm\n",
    "from matplotlib import pyplot as plt"
   ]
  },
  {
   "cell_type": "code",
   "execution_count": 2,
   "metadata": {},
   "outputs": [],
   "source": [
    "# loggerを使う\n",
    "from logging import getLogger, StreamHandler, Formatter\n",
    "\n",
    "# create logger\n",
    "logger = getLogger(__name__)\n",
    "log_fmt = Formatter(\"%(asctime)s %(name)s %(lineno)s [%(levelname)s][%(funcName)s] %(message)s\")\n",
    "\n",
    "# ログレベル設定\n",
    "log_level = \"INFO\"\n",
    "#log_level = \"DEBUG\"\n",
    "logger.setLevel(log_level)\n",
    "\n",
    "# handlerの生成\n",
    "handler = StreamHandler()\n",
    "handler.setLevel(log_level)\n",
    "handler.setFormatter(log_fmt)\n",
    "logger.addHandler(handler)"
   ]
  },
  {
   "cell_type": "code",
   "execution_count": 3,
   "metadata": {},
   "outputs": [
    {
     "name": "stdout",
     "output_type": "stream",
     "text": [
      "cuda\n"
     ]
    }
   ],
   "source": [
    "# gpuを使えるときはgpuを使う\n",
    "device = \"cuda\" if torch.cuda.is_available() else 'cpu'\n",
    "print(device)"
   ]
  },
  {
   "cell_type": "code",
   "execution_count": 4,
   "metadata": {},
   "outputs": [],
   "source": [
    "# trainデータを取得\n",
    "# そのままだとPILの画像形式でDatasetを作ってしまうので、transforms.ToTensorでTensorに変換してから利用する\n",
    "fashion_mnist_train = FashionMNIST(\"./data/FashionMNIST\", train=True, download=True, transform=transforms.ToTensor())\n",
    "\n",
    "# testデータの取得\n",
    "fashion_mnist_test = FashionMNIST(\"./data/FashionMNIST\", train=False, download=True, transform=transforms.ToTensor())"
   ]
  },
  {
   "cell_type": "code",
   "execution_count": 5,
   "metadata": {},
   "outputs": [
    {
     "name": "stderr",
     "output_type": "stream",
     "text": [
      "2020-05-05 21:40:56,256 __main__ 2 [INFO][<module>] length: 60000\n",
      "2020-05-05 21:40:56,258 __main__ 3 [INFO][<module>] shape : torch.Size([1, 28, 28])\n",
      "2020-05-05 21:40:56,259 __main__ 4 [INFO][<module>] label : 9\n",
      "2020-05-05 21:40:56,260 __main__ 5 [INFO][<module>] length: 10000\n",
      "2020-05-05 21:40:56,263 __main__ 6 [INFO][<module>] shape : torch.Size([1, 28, 28])\n",
      "2020-05-05 21:40:56,264 __main__ 7 [INFO][<module>] label : 2\n"
     ]
    }
   ],
   "source": [
    "# 確認\n",
    "logger.info(f\"length: {len(fashion_mnist_train)}\") # データ数\n",
    "logger.info(f\"shape : {fashion_mnist_train[0][0].shape}\") # datasetの0番目のdata. (C, H, W)の形になっている\n",
    "logger.info(f\"label : {fashion_mnist_train[0][1]}\") # datasetの0番目のdataに対応する正解ラベル\n",
    "logger.info(f\"length: {len(fashion_mnist_test)}\")\n",
    "logger.info(f\"shape : {fashion_mnist_test[1][0].shape}\")\n",
    "logger.info(f\"label : {fashion_mnist_test[1][1]}\")"
   ]
  },
  {
   "cell_type": "code",
   "execution_count": 6,
   "metadata": {},
   "outputs": [],
   "source": [
    "# バッチサイズが128のDataLoaderをそれぞれ作成\n",
    "batch_size = 128\n",
    "train_loader = DataLoader(fashion_mnist_train, batch_size=batch_size, shuffle=True)\n",
    "test_loader = DataLoader(fashion_mnist_test, batch_size=batch_size, shuffle=False)"
   ]
  },
  {
   "cell_type": "markdown",
   "metadata": {},
   "source": [
    "### 4.2.2 CNNの構築と学習\n",
    "* nn.Conv2d: 画像の畳み込みを行う。畳み込みのフィルタを移動させることで特徴マップを作る\n",
    "* nn.MaxPool2d: プーリングを行う。プーリング領域内の最大値を取り出して出力し特徴マップを簡素化する\n",
    "* pytorchではnn.Linearは入力の次元を指定する\n",
    "  * 畳み込みやプーリングによって最終的にどのように画像のサイズが変わるのか事前に計算する必要がある"
   ]
  },
  {
   "cell_type": "markdown",
   "metadata": {},
   "source": [
    "**2層の畳み込み + 2層のMLPをつなげたCNNの実装**\n",
    "* Conv2d(in_channels, out_channels, kernel_size, stride=1, padding=0, dilation=1, groups=1, bias=True)\n",
    "* MaxPool2d(kernel_size, stride=None, padding=0, dilation=1, return_indices=False, ceil_mode=False)\n",
    "  * in_channels: 入力データのチャンネル数\n",
    "  * out_channels: 出力データのチャンネル数（≒畳み込みフィルタの数）\n",
    "  * kernel_size: 畳み込みのフィルタやプーリング領域といった小領域（カーネル）の一辺のサイズ\n",
    "  * stride: カーネルの動く際のステップ\n",
    "  * padding: 入力の周りに「枠」を付けることで出力サイズを調整する\n",
    "  * dilation: カーネルにあける隙間の大きさ"
   ]
  },
  {
   "cell_type": "code",
   "execution_count": 7,
   "metadata": {},
   "outputs": [],
   "source": [
    "# (N, C, H, W)形式のTensorを(N, C*H*W)に引き延ばす層\n",
    "# 畳み込み層の出力をMLPに渡す際に必要\n",
    "class FlattenLayer(nn.Module):\n",
    "    def forward(self, x):\n",
    "        sizes = x.size()\n",
    "        return x.view(sizes[0], -1) # -1を渡すとサイズ数を自動で調整する\n",
    "\n",
    "# 5x5のカーネルを使用し、最初に32個、次に64個のチャンネルを作成する\n",
    "# BatchNorm2dは画像形式用のBatch Normalization\n",
    "# Rdroput2dは画像形式用のDropout\n",
    "# 最後にFlatterLayerを挟む\n",
    "conv_net = nn.Sequential(\n",
    "    nn.Conv2d(1, 32, 5), # 引数は順に、in_channels, out_channels, kernel_size\n",
    "    nn.MaxPool2d(2), # ReLUのあとにプーリングするのでは...？\n",
    "    nn.ReLU(),\n",
    "    nn.BatchNorm2d(32),\n",
    "    nn.Dropout2d(0.25),\n",
    "    \n",
    "    nn.Conv2d(32, 64, 5),\n",
    "    nn.MaxPool2d(2),\n",
    "    nn.ReLU(),\n",
    "    nn.BatchNorm2d(64),\n",
    "    nn.Dropout2d(0.25),\n",
    "    FlattenLayer()\n",
    ").to(device)"
   ]
  },
  {
   "cell_type": "code",
   "execution_count": 8,
   "metadata": {},
   "outputs": [
    {
     "name": "stdout",
     "output_type": "stream",
     "text": [
      "torch.Size([1, 1024])\n"
     ]
    }
   ],
   "source": [
    "# 畳み込みによって最終的にどのようなサイズになっているかを実際にデータを入れて確認\n",
    "# ここで得られた出力サイズがMLPの入力になる\n",
    "test_input = torch.ones([1, 1, 28, 28]).to(device) # 全要素が1のtensor\n",
    "print(conv_net(test_input).size())\n",
    "conv_output_size = conv_net(test_input).size()[-1]"
   ]
  },
  {
   "cell_type": "code",
   "execution_count": 9,
   "metadata": {},
   "outputs": [],
   "source": [
    "# 2層のMLP\n",
    "mlp = nn.Sequential(\n",
    "    nn.Linear(conv_output_size, 200), # 畳み込みの出力サイズが入力になる\n",
    "    nn.ReLU(),\n",
    "    nn.BatchNorm1d(200),\n",
    "    nn.Dropout(0.25),\n",
    "    nn.Linear(200, 10)\n",
    ").to(device)\n",
    "\n",
    "# 最終的なCNN\n",
    "net = nn.Sequential(\n",
    "    conv_net,\n",
    "    mlp\n",
    ").to(device)"
   ]
  },
  {
   "cell_type": "code",
   "execution_count": 10,
   "metadata": {},
   "outputs": [],
   "source": [
    "def eval_net(net, data_loader, device):\n",
    "    \"\"\"\n",
    "    評価のヘルパー関数\n",
    "    \"\"\"\n",
    "    # 初期化\n",
    "    net.to(device).eval()\n",
    "    ys = []\n",
    "    ypreds = []\n",
    "    \n",
    "    for x, y in data_loader:\n",
    "        # gpuを使う場合の処理\n",
    "        x = x.to(device)\n",
    "        y = y.to(device)\n",
    "\n",
    "        # 確率が最大のクラスを予測\n",
    "        _, y_pred = net(x).max(1)\n",
    "        ys.append(y)\n",
    "        ypreds.append(y_pred)\n",
    "        \n",
    "    # ミニバッチごとの予測結果などを1つにまとめる\n",
    "    ys = torch.cat(ys)\n",
    "    ypreds = torch.cat(ypreds)\n",
    "\n",
    "    # 予測精度(accuracy)を計算\n",
    "    acc = (ys == ypreds).float().sum() / len(ys)\n",
    "    \n",
    "    return acc.item()"
   ]
  },
  {
   "cell_type": "code",
   "execution_count": 11,
   "metadata": {},
   "outputs": [],
   "source": [
    "def train_net(net, train_loader, test_loader, device, optimizer_cls=optim.Adam\n",
    "              , loss_fn=nn.CrossEntropyLoss(), n_iter=10):\n",
    "    \"\"\"\n",
    "    学習のヘルパー関数\n",
    "    \"\"\"\n",
    "    # 初期化\n",
    "    net.to(device).train()\n",
    "    train_losses = []\n",
    "    train_acc = []\n",
    "    val_acc = []\n",
    "    optimizer = optimizer_cls(net.parameters())\n",
    "    \n",
    "    for epoch in tqdm(range(n_iter)):\n",
    "        # 初期化\n",
    "        running_loss = 0.0\n",
    "        n = 0\n",
    "        n_acc = 0\n",
    "        \n",
    "        for i, (x, y) in enumerate(train_loader):\n",
    "            # gpuを使う場合の処理\n",
    "            x = x.to(device)\n",
    "            y = y.to(device)\n",
    "            \n",
    "            h = net(x)\n",
    "            loss = loss_fn(h, y)\n",
    "            optimizer.zero_grad()\n",
    "            loss.backward()\n",
    "            optimizer.step()\n",
    "            running_loss += loss.item()\n",
    "            \n",
    "            n += len(x)\n",
    "            _, y_pred = h.max(1)\n",
    "            n_acc += (y == y_pred).float().sum().item()\n",
    "            \n",
    "        train_losses.append(running_loss / i)\n",
    "\n",
    "        # 学習データの予測精度\n",
    "        train_acc.append(n_acc / n)\n",
    "\n",
    "        # テストデータの予測精度\n",
    "        val_acc.append(eval_net(net, test_loader, device))\n",
    "\n",
    "        # このepochでの結果を表示\n",
    "        #print(epoch, train_losses[-1], train_acc[-1], val_acc[-1], flush=True)\n",
    "        logger.debug(f\"epoch: {epoch}\")\n",
    "        logger.debug(f\"train_losses: {train_losses[-1]}\")\n",
    "        logger.debug(f\"train_acc: {train_acc[-1]}\")\n",
    "        logger.debug(f\"val_acc: {val_acc[-1]}\")\n",
    "        \n",
    "    return train_losses, train_acc, val_acc"
   ]
  },
  {
   "cell_type": "code",
   "execution_count": 12,
   "metadata": {},
   "outputs": [
    {
     "name": "stderr",
     "output_type": "stream",
     "text": [
      "100%|██████████████████████████████████████████████████████████████████████████████████| 15/15 [02:16<00:00,  9.11s/it]\n"
     ]
    }
   ],
   "source": [
    "# 実行（cpuだと時間がかかる）\n",
    "train_losses, train_acc, val_acc = train_net(net, train_loader, test_loader, device, n_iter=15)"
   ]
  },
  {
   "cell_type": "code",
   "execution_count": 13,
   "metadata": {},
   "outputs": [
    {
     "data": {
      "text/plain": [
       "[<matplotlib.lines.Line2D at 0x1698ee51688>]"
      ]
     },
     "execution_count": 13,
     "metadata": {},
     "output_type": "execute_result"
    },
    {
     "data": {
      "image/png": "[encoded data removed]",
      "text/plain": [
       "<Figure size 432x288 with 1 Axes>"
      ]
     },
     "metadata": {
      "needs_background": "light"
     },
     "output_type": "display_data"
    }
   ],
   "source": [
    "# 確認\n",
    "plt.plot(train_losses)"
   ]
  },
  {
   "cell_type": "code",
   "execution_count": 14,
   "metadata": {},
   "outputs": [
    {
     "data": {
      "text/plain": [
       "<matplotlib.legend.Legend at 0x1698eedd148>"
      ]
     },
     "execution_count": 14,
     "metadata": {},
     "output_type": "execute_result"
    },
    {
     "data": {
      "image/png": "[encoded data removed]",
      "text/plain": [
       "<Figure size 432x288 with 1 Axes>"
      ]
     },
     "metadata": {
      "needs_background": "light"
     },
     "output_type": "display_data"
    }
   ],
   "source": [
    "# 確認\n",
    "plt.plot(train_acc, color=\"tab:orange\", label=\"train\")\n",
    "plt.plot(val_acc, color=\"tab:blue\", label=\"test\")\n",
    "plt.legend()"
   ]
  },
  {
   "cell_type": "markdown",
   "metadata": {},
   "source": [
    "## 4.3 転移学習\n",
    "* CNNは様々な構造が提案されている（VGG, Inception, ResNet）が、パラメータが多い\n",
    "* 過学習せずにパラメータを最適化するには学習用の画像（とアノテーション）が大量に必要 + 最適化に時間もかかる\n",
    "* 転移学習：あるタスクで得られたモデルを他のタスクに転送する技術\n",
    "* 画像認識においては、一番最後の出力の線形層のみ自分のデータについて学習し直すことでうまくいく（経験則）\n",
    "* ImageNet（汎用データセット）で事前に学習したResNetなどのパラメータが公開されているので転移学習に適している"
   ]
  },
  {
   "cell_type": "markdown",
   "metadata": {},
   "source": [
    "### 4.3.1 データの準備\n",
    "* 転移学習によるタコスとブリトーの分類\n",
    "* ディレクトリ構成を下記のようにしておくと、torchvision.ImageFolderで読み込んで簡単にDatasetに変換できる\n",
    "  * Train/\n",
    "    * buritto/\n",
    "    * taco/\n",
    "  * test/\n",
    "    * burrito/\n",
    "    * taco/\n",
    "* pytorchのImageNetによる学習済みモデルは224x224の画像を入力として受け取る\n",
    "* trainデータはより堅牢な学習結果にするためにRandomCropし、testデータはCenterCropする"
   ]
  },
  {
   "cell_type": "code",
   "execution_count": 15,
   "metadata": {},
   "outputs": [],
   "source": [
    "from torchvision.datasets import ImageFolder\n",
    "\n",
    "# ImageFolder関数を使用してDatasetを作成\n",
    "train_imgs = ImageFolder(\n",
    "    \"./data/taco_and_burrito/train/\",\n",
    "    transform=transforms.Compose([transforms.RandomCrop(224), transforms.ToTensor()])\n",
    ")\n",
    "test_imgs = ImageFolder(\n",
    "    \"./data/taco_and_burrito/test/\",\n",
    "    transform=transforms.Compose([transforms.CenterCrop(224), transforms.ToTensor()])\n",
    ")\n",
    "\n",
    "# DataLoaderを作成\n",
    "train_loader = DataLoader(train_imgs, batch_size=32, shuffle=True)\n",
    "test_loader = DataLoader(test_imgs, batch_size=32, shuffle=False)"
   ]
  },
  {
   "cell_type": "code",
   "execution_count": 16,
   "metadata": {},
   "outputs": [
    {
     "name": "stderr",
     "output_type": "stream",
     "text": [
      "2020-05-05 21:43:17,538 __main__ 2 [INFO][<module>] label index: {'burrito': 0, 'taco': 1}\n",
      "2020-05-05 21:43:17,539 __main__ 3 [INFO][<module>] length: 712\n",
      "2020-05-05 21:43:17,559 __main__ 4 [INFO][<module>] shape : torch.Size([3, 224, 224])\n",
      "2020-05-05 21:43:17,564 __main__ 5 [INFO][<module>] label : 0\n",
      "2020-05-05 21:43:17,565 __main__ 6 [INFO][<module>] length: 60\n",
      "2020-05-05 21:43:17,569 __main__ 7 [INFO][<module>] shape : torch.Size([3, 224, 224])\n",
      "2020-05-05 21:43:17,573 __main__ 8 [INFO][<module>] label : 0\n"
     ]
    }
   ],
   "source": [
    "# 確認\n",
    "logger.info(f\"label index: {train_imgs.class_to_idx}\") # ラベルのインデックス\n",
    "logger.info(f\"length: {len(train_imgs)}\") # データ数\n",
    "logger.info(f\"shape : {train_imgs[0][0].shape}\") # 1つ目のデータの次元\n",
    "logger.info(f\"label : {train_imgs[0][1]}\") # 1つ目のデータの正解ラベル\n",
    "logger.info(f\"length: {len(test_imgs)}\") # データ数\n",
    "logger.info(f\"shape : {test_imgs[0][0].shape}\") # 1つ目のデータの次元\n",
    "logger.info(f\"label : {test_imgs[0][1]}\") # 1つ目のデータの正解ラベル"
   ]
  },
  {
   "cell_type": "markdown",
   "metadata": {},
   "source": [
    "### 4.3.2 pytorchで転移学習\n",
    "* 事前学習済みのモデルをロード(ResNet18)\n",
    "* すべてのパラメータを微分対象から外し、最後の線形層(fc)に新しい線形層をセット\n",
    "  * 今回は2クラス分類なので線形層の出力次元は2\n",
    "  * 最後の線形層のみが微分対象になる（学習のし直し）"
   ]
  },
  {
   "cell_type": "code",
   "execution_count": 17,
   "metadata": {},
   "outputs": [],
   "source": [
    "from torchvision import models\n",
    "\n",
    "# 事前学習済みのresnet18をロード\n",
    "net = models.resnet18(pretrained=True)\n",
    "\n",
    "# 全てのパラメータを微分対象外にする\n",
    "for p in net.parameters():\n",
    "    p.requires_grad = False\n",
    "\n",
    "# 最後の線形層を付け替える\n",
    "fc_input_dim = net.fc.in_features # 入力の次元数を取得\n",
    "logger.debug(f\"input dim: {fc_input_dim}\")\n",
    "net.fc = nn.Linear(fc_input_dim, 2)"
   ]
  },
  {
   "cell_type": "code",
   "execution_count": 18,
   "metadata": {},
   "outputs": [],
   "source": [
    "def eval_net(net, data_loader, device):\n",
    "    \"\"\"\n",
    "    これまでとおなじ\n",
    "    \"\"\"\n",
    "    # 初期化\n",
    "    net.to(device).eval()\n",
    "    ys = []\n",
    "    ypreds = []\n",
    "    \n",
    "    for x, y in data_loader:\n",
    "        # gpuを使う場合の処理\n",
    "        x = x.to(device)\n",
    "        y = y.to(device)\n",
    "\n",
    "        # 確率が最大のクラスを予測\n",
    "        _, y_pred = net(x).max(1)\n",
    "        ys.append(y)\n",
    "        ypreds.append(y_pred)\n",
    "        \n",
    "    # ミニバッチごとの予測結果などを1つにまとめる\n",
    "    ys = torch.cat(ys)\n",
    "    ypreds = torch.cat(ypreds)\n",
    "\n",
    "    # 予測精度(accuracy)を計算\n",
    "    acc = (ys == ypreds).float().sum() / len(ys)\n",
    "    \n",
    "    return acc.item()"
   ]
  },
  {
   "cell_type": "code",
   "execution_count": 19,
   "metadata": {},
   "outputs": [],
   "source": [
    "def train_net(net, train_loader, test_loader, device, only_fc=True\n",
    "              , optimizer_cls=optim.Adam, loss_fn=nn.CrossEntropyLoss(), n_iter=10):\n",
    "    # 初期化\n",
    "    net.to(device).train()\n",
    "    train_losses = []\n",
    "    train_acc = []\n",
    "    val_acc = []\n",
    "    \n",
    "    if only_fc:\n",
    "        # 最後の線形層のパラメータのみをoptimizerに渡す\n",
    "        optimizer = optimizer_cls(net.fc.parameters())\n",
    "    else:\n",
    "        optimizer = optimizer_cls(net.parameters())\n",
    "    \n",
    "    for epoch in tqdm(range(n_iter)):\n",
    "        \"\"\"\n",
    "        以降は同じ\n",
    "        \"\"\"\n",
    "        # 初期化\n",
    "        running_loss = 0.0\n",
    "        n = 0\n",
    "        n_acc = 0\n",
    "        \n",
    "        for i, (x, y) in enumerate(train_loader):\n",
    "            # gpuを使う場合の処理\n",
    "            x = x.to(device)\n",
    "            y = y.to(device)\n",
    "            # 確認用\n",
    "            logger.debug(f\"x.shape: {x.shape}\")\n",
    "            logger.debug(f\"y.shape: {y.shape}\")\n",
    "            \n",
    "            h = net(x)\n",
    "            loss = loss_fn(h, y)\n",
    "            optimizer.zero_grad()\n",
    "            loss.backward()\n",
    "            optimizer.step()\n",
    "            running_loss += loss.item()\n",
    "            \n",
    "            n += len(x)\n",
    "            _, y_pred = h.max(1)\n",
    "            n_acc += (y == y_pred).float().sum().item()\n",
    "            \n",
    "        train_losses.append(running_loss / i)\n",
    "\n",
    "        # 学習データの予測精度\n",
    "        train_acc.append(n_acc / n)\n",
    "\n",
    "        # テストデータの予測精度\n",
    "        val_acc.append(eval_net(net, test_loader, device))\n",
    "\n",
    "        # このepochでの結果を表示\n",
    "        #print(epoch, train_losses[-1], train_acc[-1], val_acc[-1], flush=True)\n",
    "        logger.debug(f\"epoch: {epoch}\")\n",
    "        logger.debug(f\"train_losses: {train_losses[-1]}\")\n",
    "        logger.debug(f\"train_acc: {train_acc[-1]}\")\n",
    "        logger.debug(f\"val_acc: {val_acc[-1]}\")\n",
    "        \n",
    "    return train_losses, train_acc, val_acc"
   ]
  },
  {
   "cell_type": "code",
   "execution_count": 20,
   "metadata": {},
   "outputs": [
    {
     "name": "stderr",
     "output_type": "stream",
     "text": [
      "100%|██████████████████████████████████████████████████████████████████████████████████| 10/10 [00:18<00:00,  1.89s/it]\n"
     ]
    }
   ],
   "source": [
    "# 実行（cpuだと時間がかかる）\n",
    "train_losses, train_acc, val_acc = train_net(net, train_loader, test_loader, device, n_iter=10)"
   ]
  },
  {
   "cell_type": "code",
   "execution_count": 21,
   "metadata": {},
   "outputs": [
    {
     "data": {
      "text/plain": [
       "[<matplotlib.lines.Line2D at 0x1698ef5d508>]"
      ]
     },
     "execution_count": 21,
     "metadata": {},
     "output_type": "execute_result"
    },
    {
     "data": {
      "image/png": "[encoded data removed]",
      "text/plain": [
       "<Figure size 432x288 with 1 Axes>"
      ]
     },
     "metadata": {
      "needs_background": "light"
     },
     "output_type": "display_data"
    }
   ],
   "source": [
    "# 確認\n",
    "plt.plot(train_losses)"
   ]
  },
  {
   "cell_type": "code",
   "execution_count": 22,
   "metadata": {},
   "outputs": [
    {
     "data": {
      "text/plain": [
       "<matplotlib.legend.Legend at 0x169a5dd8048>"
      ]
     },
     "execution_count": 22,
     "metadata": {},
     "output_type": "execute_result"
    },
    {
     "data": {
      "image/png": "[encoded data removed]",
      "text/plain": [
       "<Figure size 432x288 with 1 Axes>"
      ]
     },
     "metadata": {
      "needs_background": "light"
     },
     "output_type": "display_data"
    }
   ],
   "source": [
    "# 確認\n",
    "# 後半は過学習気味？\n",
    "plt.plot(train_acc, color=\"tab:orange\", label=\"train\")\n",
    "plt.plot(val_acc, color=\"tab:blue\", label=\"test\")\n",
    "plt.legend()"
   ]
  },
  {
   "cell_type": "markdown",
   "metadata": {},
   "source": [
    "#### 補足\n",
    "* fc層以外はパラメータが変化せず、毎回同じ計算をやることになる\n",
    "* fc層を除去したネットワークを事前に計算してそれを入力とするロジスティック回帰モデルを作ってもよい\n",
    "* fc層の除去は入力をそのまま出力するダミーの層でfcを置き換えるというのが汎用性が高い"
   ]
  },
  {
   "cell_type": "raw",
   "metadata": {},
   "source": [
    "# ここはちょっと保留\n",
    "class IdentityLayer(nn.Module):\n",
    "    \"\"\"\n",
    "    入力をそのまま出力するダミー層\n",
    "    \"\"\"\n",
    "    def forward(self, x):\n",
    "        return x\n",
    "\n",
    "net = models.resnet18(pretrained=True)\n",
    "\n",
    "for p in net.parameters():\n",
    "    p.requires_grad = False\n",
    "\n",
    "net.fc = IdentityLayer()"
   ]
  },
  {
   "cell_type": "code",
   "execution_count": 23,
   "metadata": {},
   "outputs": [
    {
     "name": "stdout",
     "output_type": "stream",
     "text": [
      "44944\n"
     ]
    }
   ],
   "source": [
    "# 適当にCNNを作成した場合\n",
    "conv_net = nn.Sequential(\n",
    "    nn.Conv2d(3, 6, 5),\n",
    "    nn.BatchNorm2d(6),\n",
    "    nn.ReLU(),\n",
    "    nn.MaxPool2d(2),\n",
    "    \n",
    "    nn.Conv2d(6, 16, 5),\n",
    "    nn.BatchNorm2d(16),\n",
    "    nn.ReLU(),\n",
    "    nn.MaxPool2d(2),\n",
    "    \n",
    "    nn.Dropout2d(0.25),\n",
    "    FlattenLayer() # 上の方で実装したやつ\n",
    ")\n",
    "\n",
    "# 出力サイズを確認\n",
    "test_input = torch.ones([1, 3, 224, 224])\n",
    "conv_output_size = conv_net(test_input).size()[-1]\n",
    "print(conv_output_size)"
   ]
  },
  {
   "cell_type": "code",
   "execution_count": 24,
   "metadata": {},
   "outputs": [],
   "source": [
    "# 最終的なCNN\n",
    "net = nn.Sequential(\n",
    "    conv_net,\n",
    "    nn.Linear(conv_output_size, 128),\n",
    "    nn.Linear(128, 64),\n",
    "    nn.Linear(64, 2)\n",
    ")"
   ]
  },
  {
   "cell_type": "code",
   "execution_count": 25,
   "metadata": {},
   "outputs": [
    {
     "name": "stderr",
     "output_type": "stream",
     "text": [
      "100%|██████████████████████████████████████████████████████████████████████████████████| 20/20 [00:38<00:00,  1.91s/it]\n"
     ]
    }
   ],
   "source": [
    "# 実行（cpuだと時間がかかる）\n",
    "train_losses, train_acc, val_acc = train_net(net, train_loader, test_loader, device, n_iter=20, only_fc=False)"
   ]
  },
  {
   "cell_type": "code",
   "execution_count": 26,
   "metadata": {},
   "outputs": [
    {
     "data": {
      "text/plain": [
       "[<matplotlib.lines.Line2D at 0x169a4d53d48>]"
      ]
     },
     "execution_count": 26,
     "metadata": {},
     "output_type": "execute_result"
    },
    {
     "data": {
      "image/png": "[encoded data removed]",
      "text/plain": [
       "<Figure size 432x288 with 1 Axes>"
      ]
     },
     "metadata": {
      "needs_background": "light"
     },
     "output_type": "display_data"
    }
   ],
   "source": [
    "# 確認\n",
    "plt.plot(train_losses)"
   ]
  },
  {
   "cell_type": "code",
   "execution_count": 27,
   "metadata": {},
   "outputs": [
    {
     "data": {
      "text/plain": [
       "<matplotlib.legend.Legend at 0x169a5e1ffc8>"
      ]
     },
     "execution_count": 27,
     "metadata": {},
     "output_type": "execute_result"
    },
    {
     "data": {
      "image/png": "[encoded data removed]",
      "text/plain": [
       "<Figure size 432x288 with 1 Axes>"
      ]
     },
     "metadata": {
      "needs_background": "light"
     },
     "output_type": "display_data"
    }
   ],
   "source": [
    "# 確認\n",
    "# 後半は過学習気味？\n",
    "plt.plot(train_acc, color=\"tab:orange\", label=\"train\")\n",
    "plt.plot(val_acc, color=\"tab:blue\", label=\"test\")\n",
    "plt.legend()"
   ]
  },
  {
   "cell_type": "code",
   "execution_count": null,
   "metadata": {},
   "outputs": [],
   "source": []
  }
 ],
 "metadata": {
  "kernelspec": {
   "display_name": "Python 3",
   "language": "python",
   "name": "python3"
  },
  "language_info": {
   "codemirror_mode": {
    "name": "ipython",
    "version": 3
   },
   "file_extension": ".py",
   "mimetype": "text/x-python",
   "name": "python",
   "nbconvert_exporter": "python",
   "pygments_lexer": "ipython3",
   "version": "3.7.7"
  }
 },
 "nbformat": 4,
 "nbformat_minor": 4
}
