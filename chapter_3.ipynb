{
 "cells": [
  {
   "cell_type": "markdown",
   "metadata": {},
   "source": [
    "# 第3章 多層パーセプトロン"
   ]
  },
  {
   "cell_type": "markdown",
   "metadata": {},
   "source": [
    "## 3.1 MLPの構築と学習\n",
    "\n",
    "* 線形層をつなげるだけだと全体としては線形の関数にしかならない\n",
    "* 間に活性化関数（e.g. ReLU）を挟むことで非線形な表現を可能にする\n",
    "* 層が一直線に積み重なった形のNNをfeedforward型という\n",
    "* feedforward型NNの微分を求める際には動的計画法を用いたアルゴリズム（backpropagation）を使用する"
   ]
  },
  {
   "cell_type": "code",
   "execution_count": 1,
   "metadata": {},
   "outputs": [],
   "source": [
    "%matplotlib inline\n",
    "import torch\n",
    "from torch import nn, optim\n",
    "from sklearn.datasets import load_digits\n",
    "from matplotlib import pyplot as plt\n",
    "from tqdm import tqdm"
   ]
  },
  {
   "cell_type": "code",
   "execution_count": 2,
   "metadata": {},
   "outputs": [
    {
     "name": "stdout",
     "output_type": "stream",
     "text": [
      "cuda\n"
     ]
    }
   ],
   "source": [
    "# gpuを使えるときはgpuを使う\n",
    "device = \"cuda\" if torch.cuda.is_available() else 'cpu'\n",
    "print(device)"
   ]
  },
  {
   "cell_type": "code",
   "execution_count": 3,
   "metadata": {},
   "outputs": [
    {
     "name": "stdout",
     "output_type": "stream",
     "text": [
      "Sequential(\n",
      "  (0): Linear(in_features=64, out_features=32, bias=True)\n",
      "  (1): ReLU()\n",
      "  (2): Linear(in_features=32, out_features=16, bias=True)\n",
      "  (3): ReLU()\n",
      "  (4): Linear(in_features=16, out_features=10, bias=True)\n",
      ")\n"
     ]
    }
   ],
   "source": [
    "# nn.Sequentialはnn.Moduleの層を積み重ねてネットワークを構築する際に使用する\n",
    "net = nn.Sequential(\n",
    "    nn.Linear(64, 32),\n",
    "    nn.ReLU(),\n",
    "    nn.Linear(32, 16),\n",
    "    nn.ReLU(),\n",
    "    nn.Linear(16, 10)\n",
    ").to(device)\n",
    "print(net)"
   ]
  },
  {
   "cell_type": "code",
   "execution_count": 4,
   "metadata": {},
   "outputs": [
    {
     "name": "stdout",
     "output_type": "stream",
     "text": [
      "torch.Size([1797, 64])\n",
      "torch.Size([1797])\n"
     ]
    }
   ],
   "source": [
    "# 学習\n",
    "digits = load_digits()\n",
    "\n",
    "X = digits.data\n",
    "Y = digits.target\n",
    "\n",
    "# どっちでもいい？\n",
    "# X = torch.Tensor(X).cuda()\n",
    "# Y = torch.LongTensor(y).cuda()\n",
    "X = torch.Tensor(X).to(device)\n",
    "Y = torch.LongTensor(Y).to(device)\n",
    "print(X.shape)\n",
    "print(Y.shape)\n",
    "\n",
    "# 損失関数\n",
    "loss_fn = nn.CrossEntropyLoss()\n",
    "\n",
    "# Adam（SGDの改良版アルゴリズム）\n",
    "optimizer = optim.Adam(net.parameters())\n",
    "\n",
    "# 損失関数のログ\n",
    "losses = []"
   ]
  },
  {
   "cell_type": "code",
   "execution_count": 5,
   "metadata": {},
   "outputs": [],
   "source": [
    "# iteration\n",
    "for epoch in range(500):\n",
    "    # 勾配の削除\n",
    "    optimizer.zero_grad()\n",
    "    \n",
    "    # 予測値の計算\n",
    "    y_pred = net(X)\n",
    "    \n",
    "    # 損失と勾配の計算\n",
    "    loss = loss_fn(y_pred, Y)\n",
    "    loss.backward()\n",
    "    \n",
    "    # 勾配の更新\n",
    "    optimizer.step()\n",
    "    \n",
    "    # 損失の記録\n",
    "    losses.append(loss.item())"
   ]
  },
  {
   "cell_type": "code",
   "execution_count": 6,
   "metadata": {},
   "outputs": [
    {
     "data": {
      "text/plain": [
       "[<matplotlib.lines.Line2D at 0x1eadb1de448>]"
      ]
     },
     "execution_count": 6,
     "metadata": {},
     "output_type": "execute_result"
    },
    {
     "data": {
      "image/png": "[encoded data removed]",
      "text/plain": [
       "<Figure size 432x288 with 1 Axes>"
      ]
     },
     "metadata": {
      "needs_background": "light"
     },
     "output_type": "display_data"
    }
   ],
   "source": [
    "# 損失関数の収束を確認\n",
    "plt.plot(losses)"
   ]
  },
  {
   "cell_type": "markdown",
   "metadata": {},
   "source": [
    "## 3.2 DatasetとDataLoader\n",
    "* データが多くなる、ネットワークが深くなると、全てのデータがメモリに乗らなくなる\n",
    "* データの一部（ミニバッチ）を使用するのが本来のSGD（これまでは全部使ってた）\n",
    "* ミニバッチ学習、データのシャッフル、並列処理はDatasetとDataLoaderを使って簡単に行うことができる\n",
    "* TensorDataset（Datasetを継承したクラス）をDataLoaderに渡すことで、forループでデータの一部のみを簡単に受け取れる"
   ]
  },
  {
   "cell_type": "code",
   "execution_count": 7,
   "metadata": {},
   "outputs": [],
   "source": [
    "from torch.utils.data import TensorDataset, DataLoader\n",
    "\n",
    "# Datasetを作成\n",
    "ds = TensorDataset(X, Y)\n",
    "\n",
    "# 異なる順番で64個ずつデータを返すDataLoaderを作成\n",
    "loader = DataLoader(ds, batch_size=64, shuffle=True)\n",
    "\n",
    "net = nn.Sequential(\n",
    "    nn.Linear(64, 32),\n",
    "    nn.ReLU(),\n",
    "    nn.Linear(32, 16),\n",
    "    nn.ReLU(),\n",
    "    nn.Linear(16, 10)\n",
    ").to(device)\n",
    "\n",
    "loss_fn = nn.CrossEntropyLoss()\n",
    "optimizer = optim.Adam(net.parameters())"
   ]
  },
  {
   "cell_type": "code",
   "execution_count": 8,
   "metadata": {},
   "outputs": [
    {
     "name": "stderr",
     "output_type": "stream",
     "text": [
      "100%|████████████████████████████████████████████████████████████████████████████████| 100/100 [00:17<00:00,  5.63it/s]\n"
     ]
    }
   ],
   "source": [
    "# 最適化を実行\n",
    "losses = []\n",
    "\n",
    "for epoch in tqdm(range(100)):\n",
    "    running_loss = 0.0\n",
    "    \n",
    "    for x, y in loader:\n",
    "        # x, yは64個のみ受け取る\n",
    "        y_pred = net(x)\n",
    "        loss = loss_fn(y_pred, y)\n",
    "        optimizer.zero_grad()\n",
    "        loss.backward()\n",
    "        optimizer.step()\n",
    "        running_loss += loss.item()\n",
    "\n",
    "    losses.append(running_loss)"
   ]
  },
  {
   "cell_type": "code",
   "execution_count": 9,
   "metadata": {},
   "outputs": [
    {
     "data": {
      "text/plain": [
       "[<matplotlib.lines.Line2D at 0x1ead2b72e08>]"
      ]
     },
     "execution_count": 9,
     "metadata": {},
     "output_type": "execute_result"
    },
    {
     "data": {
      "image/png": "[encoded data removed]",
      "text/plain": [
       "<Figure size 432x288 with 1 Axes>"
      ]
     },
     "metadata": {
      "needs_background": "light"
     },
     "output_type": "display_data"
    }
   ],
   "source": [
    "# 損失関数の収束を確認\n",
    "plt.plot(losses)"
   ]
  },
  {
   "cell_type": "markdown",
   "metadata": {},
   "source": [
    "## 3.3 学習効率化のTips"
   ]
  },
  {
   "cell_type": "markdown",
   "metadata": {},
   "source": [
    "### 3.3.1 Dropoutによる正則化\n",
    "* 深いNNはパラメータが多く、過学習が起こりやすい\n",
    "* 過学習を抑える＝正則化\n",
    "* Dropout: ランダムにいくつかのノード（変数の次元）を意図的に使用しない\n",
    "* Dropoutは学習時のみに行い、予測時には使用しない\n",
    "* pytorchではモデルのtrainとevalメソッドで挙動を切り替えることができる"
   ]
  },
  {
   "cell_type": "code",
   "execution_count": 10,
   "metadata": {},
   "outputs": [
    {
     "name": "stderr",
     "output_type": "stream",
     "text": [
      "100%|████████████████████████████████████████████████████████████████████████████████| 100/100 [00:29<00:00,  3.41it/s]\n"
     ]
    }
   ],
   "source": [
    "# 過学習の例\n",
    "from sklearn.model_selection import train_test_split\n",
    "\n",
    "# 全体の30%をtestにする\n",
    "X_train, X_test, y_train, y_test = train_test_split(X, Y, test_size=0.3)\n",
    "\n",
    "# 層を積み重ねて深いNNを構築する\n",
    "k = 100\n",
    "net = nn.Sequential(\n",
    "    nn.Linear(64, k),\n",
    "    nn.ReLU(),\n",
    "    nn.Linear(k, k),\n",
    "    nn.ReLU(),\n",
    "    nn.Linear(k, k),\n",
    "    nn.ReLU(),\n",
    "    nn.Linear(k, k),\n",
    "    nn.ReLU(),\n",
    "    nn.Linear(k, 10)\n",
    ").to(device)\n",
    "\n",
    "loss_fn = nn.CrossEntropyLoss()\n",
    "optimizer = optim.Adam(net.parameters())\n",
    "\n",
    "# DataLoader作成\n",
    "ds = TensorDataset(X_train, y_train)\n",
    "loader = DataLoader(ds, batch_size=32, shuffle=True)\n",
    "\n",
    "train_losses = []\n",
    "test_losses = []\n",
    "\n",
    "for epoch in tqdm(range(100)):\n",
    "    running_loss = 0.0\n",
    "    \n",
    "    for i, (x, y) in enumerate(loader):\n",
    "        y_pred = net(x)\n",
    "        loss = loss_fn(y_pred, y)\n",
    "        optimizer.zero_grad()\n",
    "        loss.backward()\n",
    "        optimizer.step()\n",
    "        running_loss += loss.item()\n",
    "        \n",
    "    train_losses.append(running_loss / i)\n",
    "    \n",
    "    # 予測\n",
    "    y_pred = net(X_test)\n",
    "    test_loss = loss_fn(y_pred, y_test)\n",
    "    test_losses.append(test_loss.item())"
   ]
  },
  {
   "cell_type": "code",
   "execution_count": 11,
   "metadata": {},
   "outputs": [
    {
     "data": {
      "text/plain": [
       "<matplotlib.legend.Legend at 0x1ead409f948>"
      ]
     },
     "execution_count": 11,
     "metadata": {},
     "output_type": "execute_result"
    },
    {
     "data": {
      "image/png": "[encoded data removed]",
      "text/plain": [
       "<Figure size 432x288 with 1 Axes>"
      ]
     },
     "metadata": {
      "needs_background": "light"
     },
     "output_type": "display_data"
    }
   ],
   "source": [
    "# 損失関数の過学習を確認\n",
    "# epocが大きくなると損失が逆に大きくなっている\n",
    "plt.plot(train_losses, color=\"tab:orange\", label=\"train\")\n",
    "plt.plot(test_losses, color=\"tab:blue\", label=\"test\")\n",
    "plt.legend()"
   ]
  },
  {
   "cell_type": "code",
   "execution_count": 13,
   "metadata": {},
   "outputs": [
    {
     "name": "stderr",
     "output_type": "stream",
     "text": [
      "100%|████████████████████████████████████████████████████████████████████████████████| 100/100 [00:29<00:00,  3.45it/s]\n"
     ]
    }
   ],
   "source": [
    "# Dropoutの実装\n",
    "# 各層において、確率0.5でランダムに変数の次元を捨てる\n",
    "net = nn.Sequential(\n",
    "    nn.Linear(64, k),\n",
    "    nn.ReLU(),\n",
    "    nn.Dropout(0.5),\n",
    "    nn.Linear(k, k),\n",
    "    nn.ReLU(),\n",
    "    nn.Dropout(0.5),\n",
    "    nn.Linear(k, k),\n",
    "    nn.ReLU(),\n",
    "    nn.Dropout(0.5),\n",
    "    nn.Linear(k, k),\n",
    "    nn.ReLU(),\n",
    "    nn.Dropout(0.5),\n",
    "    nn.Linear(k, 10)\n",
    ").to(device)\n",
    "\n",
    "optimizer = optim.Adam(net.parameters())\n",
    "\n",
    "train_losses = []\n",
    "test_losses = []\n",
    "\n",
    "for epoch in tqdm(range(100)):\n",
    "    running_loss = 0.0\n",
    "    \n",
    "    # ネットワークを学習モードにする（dropoutやbatch normalizationを有効化）\n",
    "    net.train()\n",
    "    \n",
    "    for i, (x, y) in enumerate(loader):\n",
    "        y_pred = net(x)\n",
    "        loss = loss_fn(y_pred, y)\n",
    "        optimizer.zero_grad()\n",
    "        loss.backward()\n",
    "        optimizer.step()\n",
    "        running_loss += loss.item()\n",
    "        \n",
    "    train_losses.append(running_loss / i)\n",
    "    \n",
    "    # ネットワークを評価モードにする（dropoutやbatch normalizationを有効化）\n",
    "    net.eval()\n",
    "\n",
    "    # testデータの損失関数を計算\n",
    "    y_pred = net(X_test)\n",
    "    test_loss = loss_fn(y_pred, y_test)\n",
    "    test_losses.append(test_loss.item())"
   ]
  },
  {
   "cell_type": "code",
   "execution_count": 14,
   "metadata": {},
   "outputs": [
    {
     "data": {
      "text/plain": [
       "<matplotlib.legend.Legend at 0x1ead7d45cc8>"
      ]
     },
     "execution_count": 14,
     "metadata": {},
     "output_type": "execute_result"
    },
    {
     "data": {
      "image/png": "[encoded data removed]",
      "text/plain": [
       "<Figure size 432x288 with 1 Axes>"
      ]
     },
     "metadata": {
      "needs_background": "light"
     },
     "output_type": "display_data"
    }
   ],
   "source": [
    "# 過学習の抑制を確認\n",
    "# epocが大きくなっても損失が大きくならない\n",
    "plt.plot(train_losses, color=\"tab:orange\", label=\"train\")\n",
    "plt.plot(test_losses, color=\"tab:blue\", label=\"test\")\n",
    "plt.legend()"
   ]
  },
  {
   "cell_type": "markdown",
   "metadata": {},
   "source": [
    "### 3.3.2 Batch Normalizationによる学習の加速\n",
    "* SGDを使用したNNの学習では各変数の次元が同じような値の範囲をとることが重要\n",
    "* 深いNNでは層が進むにつれてデータの分布が変わるので入力データの正規化だけでは不十分\n",
    "* 前の層の学習によってパラメータが変動し、後ろの層の学習が不安定になってしまう\n",
    "* Batch Normalization: 上記の問題を緩和し、学習の安定化と加速に寄与\n",
    "* Batch Normalizationも学習時のみ適用し、評価時には使用しない"
   ]
  },
  {
   "cell_type": "code",
   "execution_count": 15,
   "metadata": {},
   "outputs": [
    {
     "name": "stderr",
     "output_type": "stream",
     "text": [
      "100%|████████████████████████████████████████████████████████████████████████████████| 100/100 [00:50<00:00,  1.96it/s]\n"
     ]
    }
   ],
   "source": [
    "# Linear総にはBatchNorm1dを適用する\n",
    "net = nn.Sequential(\n",
    "    nn.Linear(64, k),\n",
    "    nn.ReLU(),\n",
    "    nn.BatchNorm1d(k),\n",
    "    nn.Linear(k, k),\n",
    "    nn.ReLU(),\n",
    "    nn.BatchNorm1d(k),\n",
    "    nn.Linear(k, k),\n",
    "    nn.ReLU(),\n",
    "    nn.BatchNorm1d(k),\n",
    "    nn.Linear(k, k),\n",
    "    nn.ReLU(),\n",
    "    nn.BatchNorm1d(k),\n",
    "    nn.Linear(k, 10)\n",
    ").to(device)\n",
    "\n",
    "# 以降はDropoutと同じ\n",
    "optimizer = optim.Adam(net.parameters())\n",
    "\n",
    "train_losses = []\n",
    "test_losses = []\n",
    "\n",
    "for epoch in tqdm(range(100)):\n",
    "    running_loss = 0.0\n",
    "    \n",
    "    # ネットワークを学習モードにする\n",
    "    net.train()\n",
    "    \n",
    "    for i, (x, y) in enumerate(loader):\n",
    "        y_pred = net(x)\n",
    "        loss = loss_fn(y_pred, y)\n",
    "        optimizer.zero_grad()\n",
    "        loss.backward()\n",
    "        optimizer.step()\n",
    "        running_loss += loss.item()\n",
    "        \n",
    "    train_losses.append(running_loss / i)\n",
    "    \n",
    "    # ネットワークを評価モードにしてtestデータの損失関数を計算する\n",
    "    net.eval()\n",
    "    y_pred = net(X_test)\n",
    "    test_loss = loss_fn(y_pred, y_test)\n",
    "    test_losses.append(test_loss.item())"
   ]
  },
  {
   "cell_type": "code",
   "execution_count": 16,
   "metadata": {},
   "outputs": [
    {
     "data": {
      "text/plain": [
       "<matplotlib.legend.Legend at 0x1ead16f5988>"
      ]
     },
     "execution_count": 16,
     "metadata": {},
     "output_type": "execute_result"
    },
    {
     "data": {
      "image/png": "[encoded data removed]",
      "text/plain": [
       "<Figure size 432x288 with 1 Axes>"
      ]
     },
     "metadata": {
      "needs_background": "light"
     },
     "output_type": "display_data"
    }
   ],
   "source": [
    "# lossを確認\n",
    "# 微妙...？\n",
    "plt.plot(train_losses, color=\"tab:orange\", label=\"train\")\n",
    "plt.plot(test_losses, color=\"tab:blue\", label=\"test\")\n",
    "plt.legend()"
   ]
  },
  {
   "cell_type": "markdown",
   "metadata": {},
   "source": [
    "## 3.4 ネットワークのモジュール化\n",
    "* 独自のネットワーク層を定義する\n",
    "* nn.Moduleはnn.Linearなどの全ての層の基底クラスなので、これを継承したカスタム層を作ることができる\n",
    "* カスタム層を作る際には、forwardメソッドを実装すれば、自動微分まで可能になる\n",
    "* これまでの実装は、nn.Modlueの\\__call\\__メソッドが内部でforwardメソッドを使用しているためできていた（カスタム層の場合はこれを自分で作る必要がある）"
   ]
  },
  {
   "cell_type": "code",
   "execution_count": 24,
   "metadata": {},
   "outputs": [],
   "source": [
    "class CustomLinear(nn.Module):\n",
    "    \"\"\"\n",
    "    カスタム層の定義\n",
    "    Linear -> ReLU -> Dropout\n",
    "    \"\"\"\n",
    "    def __init__(self, in_features, out_features, bias=True, p=0.5):\n",
    "        super().__init__()\n",
    "        self.linear = nn.Linear(in_features, out_features, bias)\n",
    "        self.relu = nn.ReLU()\n",
    "        self.drop = nn.Dropout(p)\n",
    "    \n",
    "    def forward(self, x):\n",
    "        x = self.linear(x)\n",
    "        x = self.relu(x)\n",
    "        x = self.drop(x)\n",
    "        return x"
   ]
  },
  {
   "cell_type": "code",
   "execution_count": 28,
   "metadata": {},
   "outputs": [],
   "source": [
    "# カスタム層を使ったネットワークの構築\n",
    "net = nn.Sequential(\n",
    "    CustomLinear(64, 200),\n",
    "    CustomLinear(200, 200),\n",
    "    CustomLinear(200, 200),\n",
    "    nn.Linear(200, 10)\n",
    ").to(device)"
   ]
  },
  {
   "cell_type": "code",
   "execution_count": 29,
   "metadata": {},
   "outputs": [
    {
     "name": "stderr",
     "output_type": "stream",
     "text": [
      "100%|████████████████████████████████████████████████████████████████████████████████| 100/100 [00:28<00:00,  3.57it/s]\n"
     ]
    }
   ],
   "source": [
    "# 以降は同じ\n",
    "optimizer = optim.Adam(net.parameters())\n",
    "\n",
    "train_losses = []\n",
    "test_losses = []\n",
    "\n",
    "for epoch in tqdm(range(100)):\n",
    "    running_loss = 0.0\n",
    "    \n",
    "    # ネットワークを学習モードにする\n",
    "    net.train()\n",
    "    \n",
    "    for i, (x, y) in enumerate(loader):\n",
    "        y_pred = net(x)\n",
    "        loss = loss_fn(y_pred, y)\n",
    "        optimizer.zero_grad()\n",
    "        loss.backward()\n",
    "        optimizer.step()\n",
    "        running_loss += loss.item()\n",
    "        \n",
    "    train_losses.append(running_loss / i)\n",
    "    \n",
    "    # ネットワークを評価モードにしてtestデータの損失関数を計算する\n",
    "    net.eval()\n",
    "    y_pred = net(X_test)\n",
    "    test_loss = loss_fn(y_pred, y_test)\n",
    "    test_losses.append(test_loss.item())"
   ]
  },
  {
   "cell_type": "code",
   "execution_count": 30,
   "metadata": {},
   "outputs": [
    {
     "data": {
      "text/plain": [
       "<matplotlib.legend.Legend at 0x1ea9235c508>"
      ]
     },
     "execution_count": 30,
     "metadata": {},
     "output_type": "execute_result"
    },
    {
     "data": {
      "image/png": "[encoded data removed]",
      "text/plain": [
       "<Figure size 432x288 with 1 Axes>"
      ]
     },
     "metadata": {
      "needs_background": "light"
     },
     "output_type": "display_data"
    }
   ],
   "source": [
    "# lossを確認\n",
    "plt.plot(train_losses, color=\"tab:orange\", label=\"train\")\n",
    "plt.plot(test_losses, color=\"tab:blue\", label=\"test\")\n",
    "plt.legend()"
   ]
  },
  {
   "cell_type": "code",
   "execution_count": 37,
   "metadata": {},
   "outputs": [],
   "source": [
    "class MyMLP(nn.Module):\n",
    "    \"\"\"\n",
    "    カスタム層の定義2\n",
    "    nn.Sequentialのネットワーク構築部分まで含む実装\n",
    "    \"\"\"\n",
    "    def __init__(self, in_features, out_features):\n",
    "        super().__init__()\n",
    "        self.ln1 = CustomLinear(in_features, 200)\n",
    "        self.ln2 = CustomLinear(200, 200)\n",
    "        self.ln3 = CustomLinear(200, 200)\n",
    "        self.ln4 = CustomLinear(200, 200)\n",
    "        self.ln5 = nn.Linear(200, out_features)\n",
    "    \n",
    "    def forward(self, x):\n",
    "        x = self.ln1(x)\n",
    "        x = self.ln2(x)\n",
    "        x = self.ln3(x)\n",
    "        x = self.ln4(x)\n",
    "        x = self.ln5(x)\n",
    "        return x"
   ]
  },
  {
   "cell_type": "code",
   "execution_count": 38,
   "metadata": {},
   "outputs": [],
   "source": [
    "net = MyMLP(64, 10).to(device)"
   ]
  },
  {
   "cell_type": "code",
   "execution_count": 39,
   "metadata": {},
   "outputs": [
    {
     "name": "stderr",
     "output_type": "stream",
     "text": [
      "100%|████████████████████████████████████████████████████████████████████████████████| 100/100 [00:32<00:00,  3.03it/s]\n"
     ]
    }
   ],
   "source": [
    "# 以降は同じ\n",
    "optimizer = optim.Adam(net.parameters())\n",
    "\n",
    "train_losses = []\n",
    "test_losses = []\n",
    "\n",
    "for epoch in tqdm(range(100)):\n",
    "    running_loss = 0.0\n",
    "    \n",
    "    # ネットワークを学習モードにする\n",
    "    net.train()\n",
    "    \n",
    "    for i, (x, y) in enumerate(loader):\n",
    "        y_pred = net(x)\n",
    "        loss = loss_fn(y_pred, y)\n",
    "        optimizer.zero_grad()\n",
    "        loss.backward()\n",
    "        optimizer.step()\n",
    "        running_loss += loss.item()\n",
    "        \n",
    "    train_losses.append(running_loss / i)\n",
    "    \n",
    "    # ネットワークを評価モードにしてtestデータの損失関数を計算する\n",
    "    net.eval()\n",
    "    y_pred = net(X_test)\n",
    "    test_loss = loss_fn(y_pred, y_test)\n",
    "    test_losses.append(test_loss.item())"
   ]
  },
  {
   "cell_type": "code",
   "execution_count": 40,
   "metadata": {},
   "outputs": [
    {
     "data": {
      "text/plain": [
       "<matplotlib.legend.Legend at 0x1ea9241df08>"
      ]
     },
     "execution_count": 40,
     "metadata": {},
     "output_type": "execute_result"
    },
    {
     "data": {
      "image/png": "[encoded data removed]",
      "text/plain": [
       "<Figure size 432x288 with 1 Axes>"
      ]
     },
     "metadata": {
      "needs_background": "light"
     },
     "output_type": "display_data"
    }
   ],
   "source": [
    "# lossを確認\n",
    "plt.plot(train_losses, color=\"tab:orange\", label=\"train\")\n",
    "plt.plot(test_losses, color=\"tab:blue\", label=\"test\")\n",
    "plt.legend()"
   ]
  },
  {
   "cell_type": "code",
   "execution_count": null,
   "metadata": {},
   "outputs": [],
   "source": []
  }
 ],
 "metadata": {
  "kernelspec": {
   "display_name": "Python 3",
   "language": "python",
   "name": "python3"
  },
  "language_info": {
   "codemirror_mode": {
    "name": "ipython",
    "version": 3
   },
   "file_extension": ".py",
   "mimetype": "text/x-python",
   "name": "python",
   "nbconvert_exporter": "python",
   "pygments_lexer": "ipython3",
   "version": "3.7.7"
  }
 },
 "nbformat": 4,
 "nbformat_minor": 4
}
