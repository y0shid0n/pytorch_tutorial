{
 "cells": [
  {
   "cell_type": "markdown",
   "metadata": {},
   "source": [
    "# 第2章 最尤推定と線形モデル"
   ]
  },
  {
   "cell_type": "markdown",
   "metadata": {},
   "source": [
    "## 2.3.2 線形回帰モデル（from scratch）"
   ]
  },
  {
   "cell_type": "code",
   "execution_count": 26,
   "metadata": {},
   "outputs": [],
   "source": [
    "import torch\n",
    "from torch.autograd import Variable as V\n",
    "\n",
    "seed_value = 72"
   ]
  },
  {
   "cell_type": "code",
   "execution_count": 70,
   "metadata": {},
   "outputs": [
    {
     "name": "stdout",
     "output_type": "stream",
     "text": [
      "tensor([[ 1.0000, -0.6095,  0.0248],\n",
      "        [ 1.0000, -0.6509, -1.2133],\n",
      "        [ 1.0000, -0.9720,  0.5561],\n",
      "        [ 1.0000, -0.8389, -2.5504],\n",
      "        [ 1.0000, -0.6438,  0.9496]])\n"
     ]
    }
   ],
   "source": [
    "# y = 1 + 2x1 + 3x2 という線形モデルを考える\n",
    "\n",
    "# 真の係数\n",
    "w_true = torch.Tensor([1, 2, 3])\n",
    "\n",
    "# Xのデータの準備\n",
    "# 切片を回帰係数に含めるため、Xの最初の次元に1を追加しておく\n",
    "torch.manual_seed(seed_value)\n",
    "X = torch.cat([torch.ones(100, 1), torch.randn(100, 2)], 1)\n",
    "print(X[:5])"
   ]
  },
  {
   "cell_type": "code",
   "execution_count": 84,
   "metadata": {},
   "outputs": [
    {
     "name": "stdout",
     "output_type": "stream",
     "text": [
      "tensor([-0.4494, -3.9292,  0.3990, -8.9358,  2.0753,  1.0392,  3.7973, -1.4377,\n",
      "        -3.0853, -1.5062, -9.2202,  0.1761, -1.9354, -1.3786,  4.0999,  4.0928,\n",
      "         5.5666,  3.9242, -1.8017, -1.7996, -3.4828,  1.3144, -7.1538,  5.7456,\n",
      "        -1.1512, -3.5932,  0.8378, -1.4823,  0.3529, -0.2749, -6.9282, -0.3187,\n",
      "        -0.0309,  1.4050, -0.1761,  2.9766,  3.9112,  2.3424,  2.7866,  2.2523,\n",
      "         0.9887, -5.4973, -4.2799, -9.5841,  5.6943,  1.7478, -2.5283, -5.3010,\n",
      "         6.1077, -0.0281,  8.4536,  2.1970, -1.0746,  2.0529, -2.6047, -1.9677,\n",
      "         3.0923,  1.0054, -1.2799,  2.2632,  0.6018,  2.8166, -4.3391, -1.8121,\n",
      "         3.0087, -1.5564, -5.6164,  6.5953,  3.2711, -1.3833,  1.5919, -2.2853,\n",
      "         9.5498,  2.9476,  2.0338,  1.3312, -1.0840, -2.8980,  3.9825, -4.2536,\n",
      "         4.4574,  0.8592, -1.2145,  0.1011, -3.9195,  5.6365, 10.1037, -1.1222,\n",
      "         1.6445, -6.7296, -2.0261,  2.0939, -1.2813,  3.0510, -0.7837,  1.8710,\n",
      "        -2.3043,  4.0143,  3.7297, -0.5771])\n",
      "tensor([-1.0001, -0.7250, -0.3560], requires_grad=True)\n"
     ]
    }
   ],
   "source": [
    "# 真の係数と各xとの内積を行列とベクトルの積でまとめて計算\n",
    "# randnで生成した乱数を足して誤差としてる？（観測データ的な）\n",
    "torch.manual_seed(seed_value)\n",
    "y = torch.mv(X, w_true) + torch.randn(100) * 0.5\n",
    "print(y)\n",
    "\n",
    "# X, yをVariableに変換\n",
    "X = V(X)\n",
    "y = V(y)\n",
    "\n",
    "# 勾配降下で最適化するためのパラメータのVariableを乱数で初期化して生成\n",
    "torch.manual_seed(seed_value)\n",
    "w = V(torch.randn(3), requires_grad = True)\n",
    "print(w)\n",
    "\n",
    "# 学習率\n",
    "gamma = 0.1"
   ]
  },
  {
   "cell_type": "code",
   "execution_count": 85,
   "metadata": {},
   "outputs": [],
   "source": [
    "# 損失関数のログ\n",
    "losses = []\n",
    "\n",
    "# 100回イテレーションを回す\n",
    "for epoc in range(100):\n",
    "    # 前回のbackwardメソッドで計算された勾配の値を削除\n",
    "    w.grad = None\n",
    "    \n",
    "    # 線形モデルでyの予測値を計算\n",
    "    y_pred = torch.mv(X, w)\n",
    "    # print(y_pred.shape) # 100要素のベクトル\n",
    "    \n",
    "    # MSE lossとwによる微分を計算\n",
    "    loss = torch.mean((y - y_pred) ** 2)\n",
    "    loss.backward()\n",
    "    \n",
    "    # 勾配を更新する\n",
    "    # wをそのまま代入して更新すると異なるVariableになって計算グラフが破壊されるので、dataだけを更新する\n",
    "    w.data = w.data - gamma * w.grad.data\n",
    "    \n",
    "    # 収束確認のためにlossを記録しておく\n",
    "    losses.append(loss.item())"
   ]
  },
  {
   "cell_type": "code",
   "execution_count": 73,
   "metadata": {},
   "outputs": [
    {
     "data": {
      "text/plain": [
       "[<matplotlib.lines.Line2D at 0x2a0984490c8>]"
      ]
     },
     "execution_count": 73,
     "metadata": {},
     "output_type": "execute_result"
    },
    {
     "data": {
      "image/png": "[encoded data removed]",
      "text/plain": [
       "<Figure size 432x288 with 1 Axes>"
      ]
     },
     "metadata": {
      "needs_background": "light"
     },
     "output_type": "display_data"
    }
   ],
   "source": [
    "%matplotlib inline\n",
    "from matplotlib import pyplot as plt\n",
    "\n",
    "# 損失関数の収束を確認\n",
    "plt.plot(losses)"
   ]
  },
  {
   "cell_type": "code",
   "execution_count": 74,
   "metadata": {},
   "outputs": [
    {
     "name": "stdout",
     "output_type": "stream",
     "text": [
      "tensor([0.9240, 1.8767, 3.0200], requires_grad=True)\n"
     ]
    }
   ],
   "source": [
    "# 最適化された回帰係数\n",
    "print(w)"
   ]
  },
  {
   "cell_type": "markdown",
   "metadata": {},
   "source": [
    "## 2.3.3 線形回帰モデル（nn, optimモジュールの使用）"
   ]
  },
  {
   "cell_type": "code",
   "execution_count": 88,
   "metadata": {},
   "outputs": [],
   "source": [
    "from torch import nn, optim\n",
    "\n",
    "# linear層を作成\n",
    "# 今回は切片項は回帰係数に含めるので、入力の次元を3とし、bias（切片）をFalseにする\n",
    "net = nn.Linear(in_features=3, out_features=1, bias=False)\n",
    "\n",
    "# SGD（確立的勾配降下法）のオプティマイザーに上で定義したネットワークのパラメータを渡して初期化\n",
    "optimizer = optim.SGD(net.parameters(), lr=0.1)\n",
    "\n",
    "# MSE lossクラス\n",
    "loss_fn = nn.MSELoss()"
   ]
  },
  {
   "cell_type": "code",
   "execution_count": 89,
   "metadata": {},
   "outputs": [],
   "source": [
    "# 損失関数のログ\n",
    "losses = []\n",
    "\n",
    "# 100回イテレーションを回す\n",
    "for epoc in range(100):\n",
    "    # 前回のbackwardメソッドで計算された勾配の値を削除\n",
    "    optimizer.zero_grad()\n",
    "    \n",
    "    # 線形モデルでyの予測値を計算\n",
    "    y_pred = net(X)\n",
    "    # view_as()は値と要素数は同じでshapeが異なるTensorを返す（yと同じshapeにする）\n",
    "    # print(y_pred.shape) # 100x1の行列\n",
    "    # print(y_pred.view_as(y).shape) # 100要素のベクトル\n",
    "    \n",
    "    # MSE lossとwによる微分を計算\n",
    "    #loss = loss_fn(y_pred, y) # これだとshapeが違うのでダメっぽい\n",
    "    loss = loss_fn(y_pred.view_as(y), y)\n",
    "    loss.backward()\n",
    "    \n",
    "    # 勾配を更新する\n",
    "    optimizer.step()\n",
    "    \n",
    "    # 収束確認用にlossを記録\n",
    "    losses.append(loss.item())"
   ]
  },
  {
   "cell_type": "code",
   "execution_count": 90,
   "metadata": {},
   "outputs": [
    {
     "data": {
      "text/plain": [
       "[Parameter containing:\n",
       " tensor([[0.9240, 1.8767, 3.0200]], requires_grad=True)]"
      ]
     },
     "execution_count": 90,
     "metadata": {},
     "output_type": "execute_result"
    }
   ],
   "source": [
    "list(net.parameters())"
   ]
  },
  {
   "cell_type": "code",
   "execution_count": 91,
   "metadata": {},
   "outputs": [
    {
     "data": {
      "text/plain": [
       "[<matplotlib.lines.Line2D at 0x2a09849e408>]"
      ]
     },
     "execution_count": 91,
     "metadata": {},
     "output_type": "execute_result"
    },
    {
     "data": {
      "image/png": "[encoded data removed]",
      "text/plain": [
       "<Figure size 432x288 with 1 Axes>"
      ]
     },
     "metadata": {
      "needs_background": "light"
     },
     "output_type": "display_data"
    }
   ],
   "source": [
    "# 損失関数の収束を確認\n",
    "plt.plot(losses)"
   ]
  },
  {
   "cell_type": "markdown",
   "metadata": {},
   "source": [
    "## 2.4 ロジスティック回帰"
   ]
  },
  {
   "cell_type": "code",
   "execution_count": null,
   "metadata": {},
   "outputs": [],
   "source": []
  }
 ],
 "metadata": {
  "kernelspec": {
   "display_name": "Python 3",
   "language": "python",
   "name": "python3"
  },
  "language_info": {
   "codemirror_mode": {
    "name": "ipython",
    "version": 3
   },
   "file_extension": ".py",
   "mimetype": "text/x-python",
   "name": "python",
   "nbconvert_exporter": "python",
   "pygments_lexer": "ipython3",
   "version": "3.7.7"
  }
 },
 "nbformat": 4,
 "nbformat_minor": 4
}
