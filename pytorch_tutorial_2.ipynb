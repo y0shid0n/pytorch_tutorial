{
 "cells": [
  {
   "cell_type": "markdown",
   "metadata": {},
   "source": [
    "# 第2章 最尤推定と線形モデル"
   ]
  },
  {
   "cell_type": "markdown",
   "metadata": {},
   "source": [
    "## 2.1 確率モデルと最尤推定\n",
    "* 最尤推定のはなし"
   ]
  },
  {
   "cell_type": "markdown",
   "metadata": {},
   "source": [
    "## 2.2 確率的勾配降下法\n",
    "* 対数尤度関数を最大化するかわりに、損失関数の最小化を行う\n",
    "* 勾配降下法: 勾配（微分係数）を利用して繰り返し最適化していく手法\n",
    "* 学習率が大きいと損失関数の減少は速いが、収束せずに振動する可能性がある\n",
    "* 学習率が小さいと損失関数の減少が遅く、収束までの計算量が増える（時間がかかる）\n",
    "* 確率的勾配降下（SGD）: ランダムに一部の値（ミニバッチ）のみを使用する"
   ]
  },
  {
   "cell_type": "markdown",
   "metadata": {},
   "source": [
    "## 2.3.2 線形回帰モデル（from scratch）\n",
    "* 線形回帰のパラメータ（回帰係数）を最尤推定によって求める\n",
    "* 平均二乗誤差（MSE）の最小化問題を解く"
   ]
  },
  {
   "cell_type": "code",
   "execution_count": 1,
   "metadata": {},
   "outputs": [],
   "source": [
    "%matplotlib inline\n",
    "import torch\n",
    "# from torch.autograd import Variable as V\n",
    "from torch import nn, optim\n",
    "from matplotlib import pyplot as plt\n",
    "\n",
    "seed_value = 72"
   ]
  },
  {
   "cell_type": "code",
   "execution_count": 2,
   "metadata": {},
   "outputs": [
    {
     "name": "stdout",
     "output_type": "stream",
     "text": [
      "tensor([[ 1.0000, -0.6095,  0.0248],\n",
      "        [ 1.0000, -0.6509, -1.2133],\n",
      "        [ 1.0000, -0.9720,  0.5561],\n",
      "        [ 1.0000, -0.8389, -2.5504],\n",
      "        [ 1.0000, -0.6438,  0.9496]])\n"
     ]
    }
   ],
   "source": [
    "# y = 1 + 2x1 + 3x2 という線形モデルを考える\n",
    "\n",
    "# 真の係数\n",
    "w_true = torch.Tensor([1, 2, 3])\n",
    "\n",
    "# Xのデータの準備\n",
    "# 切片を回帰係数に含めるため、Xの最初の次元に1を追加しておく\n",
    "torch.manual_seed(seed_value)\n",
    "X = torch.cat([torch.ones(100, 1), torch.randn(100, 2)], 1)\n",
    "print(X[:5])"
   ]
  },
  {
   "cell_type": "code",
   "execution_count": 3,
   "metadata": {},
   "outputs": [
    {
     "name": "stdout",
     "output_type": "stream",
     "text": [
      "tensor([-0.4494, -3.9292,  0.3990, -8.9358,  2.0753,  1.0392,  3.7973, -1.4377,\n",
      "        -3.0853, -1.5062, -9.2202,  0.1761, -1.9354, -1.3786,  4.0999,  4.0928,\n",
      "         5.5666,  3.9242, -1.8017, -1.7996, -3.4828,  1.3144, -7.1538,  5.7456,\n",
      "        -1.1512, -3.5932,  0.8378, -1.4823,  0.3529, -0.2749, -6.9282, -0.3187,\n",
      "        -0.0309,  1.4050, -0.1761,  2.9766,  3.9112,  2.3424,  2.7866,  2.2523,\n",
      "         0.9887, -5.4973, -4.2799, -9.5841,  5.6943,  1.7478, -2.5283, -5.3010,\n",
      "         6.1077, -0.0281,  8.4536,  2.1970, -1.0746,  2.0529, -2.6047, -1.9677,\n",
      "         3.0923,  1.0054, -1.2799,  2.2632,  0.6018,  2.8166, -4.3391, -1.8121,\n",
      "         3.0087, -1.5564, -5.6164,  6.5953,  3.2711, -1.3833,  1.5919, -2.2853,\n",
      "         9.5498,  2.9476,  2.0338,  1.3312, -1.0840, -2.8980,  3.9825, -4.2536,\n",
      "         4.4574,  0.8592, -1.2145,  0.1011, -3.9195,  5.6365, 10.1037, -1.1222,\n",
      "         1.6445, -6.7296, -2.0261,  2.0939, -1.2813,  3.0510, -0.7837,  1.8710,\n",
      "        -2.3043,  4.0143,  3.7297, -0.5771])\n",
      "tensor([-1.0001, -0.7250, -0.3560], requires_grad=True)\n"
     ]
    }
   ],
   "source": [
    "# 真の係数と各xとの内積を行列とベクトルの積でまとめて計算\n",
    "# randnで生成した乱数を足して誤差としてる？（観測データ的な）\n",
    "torch.manual_seed(seed_value)\n",
    "y = torch.mv(X, w_true) + torch.randn(100) * 0.5\n",
    "print(y)\n",
    "\n",
    "# X, yをVariableに変換\n",
    "# 今のバージョンではVariableを使わない\n",
    "# X = V(X)\n",
    "# y = V(y)\n",
    "\n",
    "# 勾配降下で最適化するためのパラメータのVariableを乱数で初期化して生成\n",
    "torch.manual_seed(seed_value)\n",
    "# w = V(torch.randn(3), requires_grad = True)\n",
    "w = torch.randn(3, requires_grad=True)\n",
    "print(w)\n",
    "\n",
    "# 学習率\n",
    "gamma = 0.1"
   ]
  },
  {
   "cell_type": "code",
   "execution_count": 4,
   "metadata": {},
   "outputs": [],
   "source": [
    "# 損失関数のログ\n",
    "losses = []\n",
    "\n",
    "# 100回イテレーションを回す\n",
    "for epoch in range(100):\n",
    "    # 前回のbackwardメソッドで計算された勾配の値を削除\n",
    "    w.grad = None\n",
    "    \n",
    "    # 線形モデルでyの予測値を計算\n",
    "    y_pred = torch.mv(X, w)\n",
    "    # print(y_pred.shape) # 100要素のベクトル\n",
    "    \n",
    "    # MSE lossとwによる微分を計算\n",
    "    loss = torch.mean((y - y_pred) ** 2)\n",
    "    loss.backward()\n",
    "    \n",
    "    # 勾配を更新する\n",
    "    # wをそのまま代入して更新すると異なるVariableになって計算グラフが破壊されるので、dataだけを更新する\n",
    "    w.data = w.data - gamma * w.grad.data\n",
    "    \n",
    "    # 収束確認のためにlossを記録しておく\n",
    "    losses.append(loss.item())"
   ]
  },
  {
   "cell_type": "code",
   "execution_count": 5,
   "metadata": {},
   "outputs": [
    {
     "data": {
      "text/plain": [
       "[<matplotlib.lines.Line2D at 0x18cad982fc8>]"
      ]
     },
     "execution_count": 5,
     "metadata": {},
     "output_type": "execute_result"
    },
    {
     "data": {
      "image/png": "[encoded data removed]",
      "text/plain": [
       "<Figure size 432x288 with 1 Axes>"
      ]
     },
     "metadata": {
      "needs_background": "light"
     },
     "output_type": "display_data"
    }
   ],
   "source": [
    "# 損失関数の収束を確認\n",
    "plt.plot(losses)"
   ]
  },
  {
   "cell_type": "code",
   "execution_count": 6,
   "metadata": {},
   "outputs": [
    {
     "name": "stdout",
     "output_type": "stream",
     "text": [
      "tensor([0.9240, 1.8767, 3.0200], requires_grad=True)\n"
     ]
    }
   ],
   "source": [
    "# 最適化された回帰係数\n",
    "print(w)"
   ]
  },
  {
   "cell_type": "markdown",
   "metadata": {},
   "source": [
    "## 2.3.3 線形回帰モデル（nn, optimモジュールの使用）\n",
    "* モデル構築、勾配計算はpytorchのモジュールで簡単にできる\n",
    "* モデル構築: torch.nn()\n",
    "* 最適化: torch.optim()"
   ]
  },
  {
   "cell_type": "code",
   "execution_count": 7,
   "metadata": {},
   "outputs": [],
   "source": [
    "# linear層を作成\n",
    "# 今回は切片項は回帰係数に含めるので、入力の次元を3とし、bias（切片）をFalseにする\n",
    "net = nn.Linear(in_features=3, out_features=1, bias=False)\n",
    "\n",
    "# SGD（確立的勾配降下法）のオプティマイザーに上で定義したネットワークのパラメータを渡して初期化\n",
    "optimizer = optim.SGD(net.parameters(), lr=0.1)\n",
    "\n",
    "# MSE lossクラス\n",
    "loss_fn = nn.MSELoss()"
   ]
  },
  {
   "cell_type": "code",
   "execution_count": 8,
   "metadata": {},
   "outputs": [],
   "source": [
    "# 損失関数のログ\n",
    "losses = []\n",
    "\n",
    "# 100回イテレーションを回す\n",
    "for epoch in range(100):\n",
    "    # 前回のbackwardメソッドで計算された勾配の値を削除\n",
    "    optimizer.zero_grad()\n",
    "    \n",
    "    # 線形モデルでyの予測値を計算\n",
    "    y_pred = net(X)\n",
    "    # view_as()は値と要素数は同じでshapeが異なるTensorを返す（yと同じshapeにする）\n",
    "    # print(y_pred.shape) # 100x1の行列\n",
    "    # print(y_pred.view_as(y).shape) # 100要素のベクトル\n",
    "    \n",
    "    # MSE lossとwによる微分を計算\n",
    "    #loss = loss_fn(y_pred, y) # これだとshapeが違うのでダメっぽい\n",
    "    loss = loss_fn(y_pred.view_as(y), y)\n",
    "    loss.backward()\n",
    "    \n",
    "    # 勾配を更新する\n",
    "    optimizer.step()\n",
    "    \n",
    "    # 収束確認用にlossを記録\n",
    "    losses.append(loss.item())"
   ]
  },
  {
   "cell_type": "code",
   "execution_count": 9,
   "metadata": {},
   "outputs": [
    {
     "data": {
      "text/plain": [
       "[Parameter containing:\n",
       " tensor([[0.9240, 1.8767, 3.0200]], requires_grad=True)]"
      ]
     },
     "execution_count": 9,
     "metadata": {},
     "output_type": "execute_result"
    }
   ],
   "source": [
    "list(net.parameters())"
   ]
  },
  {
   "cell_type": "code",
   "execution_count": 10,
   "metadata": {},
   "outputs": [
    {
     "data": {
      "text/plain": [
       "[<matplotlib.lines.Line2D at 0x18cb7bbce88>]"
      ]
     },
     "execution_count": 10,
     "metadata": {},
     "output_type": "execute_result"
    },
    {
     "data": {
      "image/png": "[encoded data removed]",
      "text/plain": [
       "<Figure size 432x288 with 1 Axes>"
      ]
     },
     "metadata": {
      "needs_background": "light"
     },
     "output_type": "display_data"
    }
   ],
   "source": [
    "# 損失関数の収束を確認\n",
    "plt.plot(losses)"
   ]
  },
  {
   "cell_type": "markdown",
   "metadata": {},
   "source": [
    "## 2.4 ロジスティック回帰\n",
    "* ロジスティック回帰: 線形結合をとったあとにシグモイド関数を通して\\[0, 1\\]の値に変換する\n",
    "* 損失関数はクロスエントロピーを使う"
   ]
  },
  {
   "cell_type": "code",
   "execution_count": 11,
   "metadata": {},
   "outputs": [],
   "source": [
    "from sklearn.datasets import load_iris\n",
    "iris = load_iris()\n",
    "\n",
    "# irisは3クラス分類だが、ここでは2クラス分類を行う\n",
    "# 本来はtrainとtestに分けるべきだが今回は省略\n",
    "X = iris.data[:100]\n",
    "y = iris.target[:100]\n",
    "\n",
    "# ndarrayをVariableに変換\n",
    "# X = V(torch.Tensor(X))\n",
    "# y = V(torch.Tensor(y))\n",
    "X = torch.Tensor(X)\n",
    "y = torch.Tensor(y)"
   ]
  },
  {
   "cell_type": "code",
   "execution_count": 12,
   "metadata": {},
   "outputs": [
    {
     "name": "stdout",
     "output_type": "stream",
     "text": [
      "torch.Size([100, 4])\n"
     ]
    }
   ],
   "source": [
    "print(X.shape)"
   ]
  },
  {
   "cell_type": "code",
   "execution_count": 13,
   "metadata": {},
   "outputs": [],
   "source": [
    "# irisのデータは4次元\n",
    "net = nn.Linear(4, 1)\n",
    "\n",
    "# シグモイド関数を作用させ、2クラス分類のクロスエントロピーを計算する\n",
    "loss_fn = nn.BCEWithLogitsLoss()\n",
    "\n",
    "# SGD（少し大きめの学習率）\n",
    "optimizer = optim.SGD(net.parameters(), lr=0.25)"
   ]
  },
  {
   "cell_type": "code",
   "execution_count": 14,
   "metadata": {},
   "outputs": [],
   "source": [
    "# 損失関数のログ\n",
    "losses = []\n",
    "\n",
    "# 100回イテレーションを回す\n",
    "for epoch in range(100):\n",
    "    # 前回の勾配の値を削除\n",
    "    optimizer.zero_grad()\n",
    "    \n",
    "    # ロジスティック回帰の予測値を計算\n",
    "    y_pred = net(X)\n",
    "    \n",
    "    # MSE lossとwによる微分を計算\n",
    "    loss = loss_fn(y_pred.view_as(y), y)\n",
    "    loss.backward()\n",
    "    \n",
    "    # 勾配を更新する\n",
    "    optimizer.step()\n",
    "    \n",
    "    # 収束確認用にlossを記録\n",
    "    losses.append(loss.item())"
   ]
  },
  {
   "cell_type": "code",
   "execution_count": 15,
   "metadata": {},
   "outputs": [
    {
     "data": {
      "text/plain": [
       "[<matplotlib.lines.Line2D at 0x18cb8d1f308>]"
      ]
     },
     "execution_count": 15,
     "metadata": {},
     "output_type": "execute_result"
    },
    {
     "data": {
      "image/png": "[encoded data removed]",
      "text/plain": [
       "<Figure size 432x288 with 1 Axes>"
      ]
     },
     "metadata": {
      "needs_background": "light"
     },
     "output_type": "display_data"
    }
   ],
   "source": [
    "# 損失関数の収束を確認\n",
    "plt.plot(losses)"
   ]
  },
  {
   "cell_type": "code",
   "execution_count": 16,
   "metadata": {},
   "outputs": [
    {
     "data": {
      "text/plain": [
       "tensor(100)"
      ]
     },
     "execution_count": 16,
     "metadata": {},
     "output_type": "execute_result"
    }
   ],
   "source": [
    "# 予測は下記のように行う\n",
    "\n",
    "# ロジスティック回帰の結果\n",
    "h = net(X)\n",
    "\n",
    "# シグモイド関数を作用させた結果はy=1の確率を表す\n",
    "prob = torch.sigmoid(h)\n",
    "\n",
    "# 確率が0.5以上のものをクラス1予想し、それ以外を0とする\n",
    "# pytorchにはBoolがないのでByteTensorが使用される\n",
    "y_pred = prob > 0.5\n",
    "\n",
    "# 予測結果の確認（yはFloatTensorなのでByteTensorに変換してから比較する）\n",
    "(y.byte() == y_pred.view_as(y)).sum()"
   ]
  },
  {
   "cell_type": "markdown",
   "metadata": {},
   "source": [
    "## 2.4.3 多クラスのロジスティック回帰"
   ]
  },
  {
   "cell_type": "code",
   "execution_count": 17,
   "metadata": {},
   "outputs": [
    {
     "name": "stdout",
     "output_type": "stream",
     "text": [
      "(1797, 64)\n",
      "[[ 0.  0.  5. 13.  9.  1.  0.  0.  0.  0. 13. 15. 10. 15.  5.  0.  0.  3.\n",
      "  15.  2.  0. 11.  8.  0.  0.  4. 12.  0.  0.  8.  8.  0.  0.  5.  8.  0.\n",
      "   0.  9.  8.  0.  0.  4. 11.  0.  1. 12.  7.  0.  0.  2. 14.  5. 10. 12.\n",
      "   0.  0.  0.  0.  6. 13. 10.  0.  0.  0.]\n",
      " [ 0.  0.  0. 12. 13.  5.  0.  0.  0.  0.  0. 11. 16.  9.  0.  0.  0.  0.\n",
      "   3. 15. 16.  6.  0.  0.  0.  7. 15. 16. 16.  2.  0.  0.  0.  0.  1. 16.\n",
      "  16.  3.  0.  0.  0.  0.  1. 16. 16.  6.  0.  0.  0.  0.  1. 16. 16.  6.\n",
      "   0.  0.  0.  0.  0. 11. 16. 10.  0.  0.]\n",
      " [ 0.  0.  0.  4. 15. 12.  0.  0.  0.  0.  3. 16. 15. 14.  0.  0.  0.  0.\n",
      "   8. 13.  8. 16.  0.  0.  0.  0.  1.  6. 15. 11.  0.  0.  0.  1.  8. 13.\n",
      "  15.  1.  0.  0.  0.  9. 16. 16.  5.  0.  0.  0.  0.  3. 13. 16. 16. 11.\n",
      "   5.  0.  0.  0.  0.  3. 11. 16.  9.  0.]]\n"
     ]
    }
   ],
   "source": [
    "from sklearn.datasets import load_digits\n",
    "digits = load_digits()\n",
    "\n",
    "X = digits.data\n",
    "y = digits.target\n",
    "print(X.shape)\n",
    "print(X[:3])\n",
    "\n",
    "# X = V(torch.Tensor(X))\n",
    "# CrossEntropyLoss関数はyとしてLongTensorを受け取るので注意\n",
    "# y = V(torch.LongTensor(y))\n",
    "\n",
    "X = torch.Tensor(X)\n",
    "y = torch.LongTensor(y)\n",
    "\n",
    "# 入力は64次元、出力は10次元（クラス数）\n",
    "net = nn.Linear(X.shape[1], 10)\n",
    "\n",
    "# ソフトマックスクロスエントロピー\n",
    "loss_fn = nn.CrossEntropyLoss()\n",
    "\n",
    "# SGD\n",
    "optimizer = optim.SGD(net.parameters(), lr=0.01)"
   ]
  },
  {
   "cell_type": "code",
   "execution_count": 18,
   "metadata": {},
   "outputs": [
    {
     "data": {
      "image/png": "[encoded data removed]",
      "text/plain": [
       "<Figure size 432x288 with 10 Axes>"
      ]
     },
     "metadata": {
      "needs_background": "light"
     },
     "output_type": "display_data"
    }
   ],
   "source": [
    "# 画像にして出力\n",
    "images_and_labels = list(zip(digits.images, digits.target))\n",
    "for index, (image, label) in enumerate(images_and_labels[:10]):\n",
    "    plt.subplot(2, 5, index + 1)\n",
    "    plt.imshow(image, cmap=plt.cm.gray_r, interpolation='nearest')\n",
    "    plt.axis('off')\n",
    "    plt.title('Training: %i' % label)\n",
    "plt.show()"
   ]
  },
  {
   "cell_type": "code",
   "execution_count": 19,
   "metadata": {},
   "outputs": [],
   "source": [
    "# 学習\n",
    "losses = []\n",
    "\n",
    "for epoch in range(100):\n",
    "    # 勾配の削除\n",
    "    optimizer.zero_grad()\n",
    "    \n",
    "    # 予測値の計算\n",
    "    # 10クラスに対する予測確率と、予測確率が最も大きいクラスのインデックスを持つ\n",
    "    y_pred = net(X)\n",
    "    \n",
    "    # 損失の計算と微分\n",
    "    # ここは10次元をそのまま突っ込めばok\n",
    "    loss = loss_fn(y_pred, y)\n",
    "    loss.backward()\n",
    "    \n",
    "    # 勾配の更新\n",
    "    optimizer.step()\n",
    "    \n",
    "    # 損失の記録\n",
    "    losses.append(loss.item())"
   ]
  },
  {
   "cell_type": "code",
   "execution_count": 20,
   "metadata": {},
   "outputs": [
    {
     "data": {
      "text/plain": [
       "[<matplotlib.lines.Line2D at 0x18cb9189608>]"
      ]
     },
     "execution_count": 20,
     "metadata": {},
     "output_type": "execute_result"
    },
    {
     "data": {
      "image/png": "[encoded data removed]",
      "text/plain": [
       "<Figure size 432x288 with 1 Axes>"
      ]
     },
     "metadata": {
      "needs_background": "light"
     },
     "output_type": "display_data"
    }
   ],
   "source": [
    "# 損失関数の収束を確認\n",
    "plt.plot(losses)"
   ]
  },
  {
   "cell_type": "code",
   "execution_count": 21,
   "metadata": {},
   "outputs": [
    {
     "data": {
      "text/plain": [
       "tensor(0.9533)"
      ]
     },
     "execution_count": 21,
     "metadata": {},
     "output_type": "execute_result"
    }
   ],
   "source": [
    "# 予測\n",
    "# どっちでもいいっぽいが下の方が早い（なぜかはわからん）\n",
    "# _, y_pred = net(X).max(1)\n",
    "_, y_pred = torch.max(net(X), 1)\n",
    "\n",
    "# 正解率を計算する\n",
    "# ByteTensorのままsumをするとoverflowするので、FloatTensorに変換してからsumをとる\n",
    "(y_pred == y).float().sum() / len(y)"
   ]
  },
  {
   "cell_type": "code",
   "execution_count": null,
   "metadata": {},
   "outputs": [],
   "source": []
  }
 ],
 "metadata": {
  "kernelspec": {
   "display_name": "Python 3",
   "language": "python",
   "name": "python3"
  },
  "language_info": {
   "codemirror_mode": {
    "name": "ipython",
    "version": 3
   },
   "file_extension": ".py",
   "mimetype": "text/x-python",
   "name": "python",
   "nbconvert_exporter": "python",
   "pygments_lexer": "ipython3",
   "version": "3.7.7"
  }
 },
 "nbformat": 4,
 "nbformat_minor": 4
}
